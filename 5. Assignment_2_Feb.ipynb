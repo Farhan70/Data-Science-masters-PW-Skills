{
 "cells": [
  {
   "cell_type": "code",
   "execution_count": 3,
   "id": "00d17055-6aa3-4512-b639-a56612b26710",
   "metadata": {},
   "outputs": [
    {
     "name": "stdout",
     "output_type": "stream",
     "text": [
      "pen\n",
      "notebook\n",
      "pencil\n",
      "lunch box\n"
     ]
    }
   ],
   "source": [
    "# Q1.  Explain with an example each when to use a for loop and a while loop.\n",
    "items = ['pen', 'notebook','pencil', 'lunch box']  \n",
    "for item in items: \n",
    "    print(item) "
   ]
  },
  {
   "cell_type": "code",
   "execution_count": 5,
   "id": "03c1bd65-a239-4401-9325-e4ec01d7cc79",
   "metadata": {},
   "outputs": [
    {
     "name": "stdout",
     "output_type": "stream",
     "text": [
      "pen\n",
      "notebook\n",
      "pencil\n",
      "lunch box\n"
     ]
    }
   ],
   "source": [
    "# For Loop :-\n",
    "# Var is the variable name, and iterable is an object which can be looped over or iterated over with the help of a for a loop. Objects like tuples, lists, sets, dictionaries, strings, etc. are called iterable. We can also use the range() function in place of iterable.\n",
    "# Example -\n",
    "items = ['pen', 'notebook', 'pencil', 'lunch box']  \n",
    "for item in items: \n",
    "    print(item) "
   ]
  },
  {
   "cell_type": "code",
   "execution_count": 11,
   "id": "8dece6af-85f2-420a-a1dc-8706a5b1c82e",
   "metadata": {},
   "outputs": [
    {
     "name": "stdout",
     "output_type": "stream",
     "text": [
      "pen\n",
      "notebook\n",
      "pencil\n",
      "lunch box\n"
     ]
    }
   ],
   "source": [
    "# While Loop :-\n",
    "# We are using a while loop to perform the task that we have done in the example of for loop. Here, after declaring the items list we initialize the index with 0 and store the length of the items list in the variable ‘items_len’ after that running a while loop in which we have given a condition that runs the loop until the value of the index is less than items_len. Inside the while loop, we print the items of the items list using indexing and increment the value of the index by 1 to iterate over the list.\n",
    "# Example - \n",
    "items = ['pen', 'notebook','pencil', 'lunch box'] \n",
    "index = 0\n",
    "items_len = len(items) \n",
    "while index<items_len: \n",
    "    print(items[index]) \n",
    "    index = index+1"
   ]
  },
  {
   "cell_type": "code",
   "execution_count": 4,
   "id": "17315882-8ce3-4afe-9c2b-fb93f1589d30",
   "metadata": {},
   "outputs": [],
   "source": [
    "# Q2. Write a python program to print the sum and product of the first 10 natural numbers using for and while loop."
   ]
  },
  {
   "cell_type": "code",
   "execution_count": 15,
   "id": "becc5e5d-b211-4f29-806b-82a4ce9de4d8",
   "metadata": {},
   "outputs": [
    {
     "name": "stdout",
     "output_type": "stream",
     "text": [
      "The sum of the first 10 natural numbers is: 55\n",
      "The product of the first 10 natural numbers is: 3628800\n"
     ]
    }
   ],
   "source": [
    "total_sum = 0\n",
    "for i in range(1, 11):\n",
    "    total_sum += i\n",
    "print(f\"The sum of the first 10 natural numbers is: {total_sum}\")\n",
    "\n",
    "product = 1\n",
    "count = 1\n",
    "while count <= 10:\n",
    "    product *= count\n",
    "    count += 1\n",
    "print(f\"The product of the first 10 natural numbers is: {product}\")"
   ]
  },
  {
   "cell_type": "code",
   "execution_count": 6,
   "id": "badb39bb-1e74-467c-b511-1b426d6bf30a",
   "metadata": {},
   "outputs": [],
   "source": [
    " # Q3. Create a python program to compute the electricity bill for a household.The per-unit charges in rupees are as follows: For the first 100 units, the user will be charged Rs. 4.5 per unit, for the next 100 units, the user will be charged Rs. 6 per unit, and for the next 100 units, the user will be charged Rs. 10 per unit, After 300 units and above the user will be charged Rs. 20 per unit.\n",
    " #      You are required to take the units of electricity consumed in a month from the user as input.\n",
    " #      Your program must pass this test case: when the unit of electricity consumed by the user in a month is 310, the total electricity bill should be 2250. \n"
   ]
  },
  {
   "cell_type": "code",
   "execution_count": 17,
   "id": "ecd2f3a0-25a9-4b56-9c6d-57785dc6f9a0",
   "metadata": {},
   "outputs": [
    {
     "name": "stdin",
     "output_type": "stream",
     "text": [
      "Enter the units of electricity consumed in a month:  12\n"
     ]
    },
    {
     "name": "stdout",
     "output_type": "stream",
     "text": [
      "Total electricity bill for 12 units: Rs. 54.00\n"
     ]
    }
   ],
   "source": [
    "def calculate_electricity_bill(units_consumed):\n",
    "    first_100_units_charge = 4.5\n",
    "    next_100_units_charge = 6\n",
    "    next_100_units_charge_after_200 = 10\n",
    "    above_300_units_charge = 20\n",
    "\n",
    "    total_bill = 0\n",
    "    if units_consumed <= 100:\n",
    "        total_bill = units_consumed * first_100_units_charge\n",
    "    elif units_consumed <= 200:\n",
    "        total_bill = 100 * first_100_units_charge + (units_consumed - 100) * next_100_units_charge\n",
    "    elif units_consumed <= 300:\n",
    "        total_bill = 100 * first_100_units_charge + 100 * next_100_units_charge + (units_consumed - 200) * next_100_units_charge_after_200\n",
    "    else:\n",
    "        total_bill = 100 * first_100_units_charge + 100 * next_100_units_charge + 100 * next_100_units_charge_after_200 + (units_consumed - 300) * above_300_units_charge\n",
    "\n",
    "    return total_bill\n",
    "\n",
    "units_consumed = int(input(\"Enter the units of electricity consumed in a month: \"))\n",
    "electricity_bill = calculate_electricity_bill(units_consumed)\n",
    "print(f\"Total electricity bill for {units_consumed} units: Rs. {electricity_bill:.2f}\")\n"
   ]
  },
  {
   "cell_type": "code",
   "execution_count": 7,
   "id": "09557f5f-ae2f-4805-9df1-4904e1d8a075",
   "metadata": {},
   "outputs": [],
   "source": [
    "# Q4. Create a list of numbers from 1 to 100. Use for loop and while loop to calculate the cube of each number and if the cube of that number is divisible by 4 or 5 then append that number in a list and print that list.\n"
   ]
  },
  {
   "cell_type": "code",
   "execution_count": 19,
   "id": "f570581b-8b2f-4991-9545-9762dc967201",
   "metadata": {},
   "outputs": [
    {
     "name": "stdout",
     "output_type": "stream",
     "text": [
      "Numbers with cube divisible by 4 or 5: [2, 4, 5, 6, 8, 10, 12, 14, 15, 16, 18, 20, 22, 24, 25, 26, 28, 30, 32, 34, 35, 36, 38, 40, 42, 44, 45, 46, 48, 50, 52, 54, 55, 56, 58, 60, 62, 64, 65, 66, 68, 70, 72, 74, 75, 76, 78, 80, 82, 84, 85, 86, 88, 90, 92, 94, 95, 96, 98, 100]\n"
     ]
    }
   ],
   "source": [
    "numbers = list(range(1, 101))\n",
    "import numpy as np\n",
    "numbers = np.arange(1, 101).tolist()\n",
    "numbers = list(range(1, 101))\n",
    "\n",
    "eligible_numbers = []\n",
    "for num in numbers:\n",
    "    cube = num ** 3\n",
    "    if cube % 4 == 0 or cube % 5 == 0:\n",
    "        eligible_numbers.append(num)\n",
    "print(\"Numbers with cube divisible by 4 or 5:\", eligible_numbers)\n"
   ]
  },
  {
   "cell_type": "code",
   "execution_count": 12,
   "id": "db6833ae-cb21-4588-968f-cc6c096d29d8",
   "metadata": {},
   "outputs": [],
   "source": [
    "# Q5.  Write a program to filter count vowels in the below-given string.\n",
    "#     string = \"I want to become a data scientist\"\n"
   ]
  },
  {
   "cell_type": "code",
   "execution_count": 20,
   "id": "3c39101f-6875-42f2-badd-302fb7e33787",
   "metadata": {},
   "outputs": [
    {
     "name": "stdout",
     "output_type": "stream",
     "text": [
      "Number of vowels in the string: 12\n"
     ]
    }
   ],
   "source": [
    "def count_vowels(string):\n",
    "    vowels = set(\"aeiouAEIOU\")\n",
    "    count = 0\n",
    "    for char in string:\n",
    "        if char in vowels:\n",
    "            count += 1\n",
    "    return count\n",
    "\n",
    "input_string = \"I want to become a data scientist\"\n",
    "result = count_vowels(input_string)\n",
    "print(f\"Number of vowels in the string: {result}\")\n"
   ]
  },
  {
   "cell_type": "code",
   "execution_count": null,
   "id": "78b1e02f-5e74-4df8-bae1-3a16089ca4c1",
   "metadata": {},
   "outputs": [],
   "source": []
  }
 ],
 "metadata": {
  "kernelspec": {
   "display_name": "Python 3 (ipykernel)",
   "language": "python",
   "name": "python3"
  },
  "language_info": {
   "codemirror_mode": {
    "name": "ipython",
    "version": 3
   },
   "file_extension": ".py",
   "mimetype": "text/x-python",
   "name": "python",
   "nbconvert_exporter": "python",
   "pygments_lexer": "ipython3",
   "version": "3.10.8"
  }
 },
 "nbformat": 4,
 "nbformat_minor": 5
}
