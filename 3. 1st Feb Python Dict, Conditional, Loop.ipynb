{
 "cells": [
  {
   "cell_type": "code",
   "execution_count": 1,
   "id": "7901307e-6dda-4b2a-8fd3-d94734fe5837",
   "metadata": {},
   "outputs": [],
   "source": [
    "d = {}"
   ]
  },
  {
   "cell_type": "code",
   "execution_count": 2,
   "id": "634cfc68-f9dd-4929-980a-f1d0d8401f3b",
   "metadata": {},
   "outputs": [
    {
     "data": {
      "text/plain": [
       "dict"
      ]
     },
     "execution_count": 2,
     "metadata": {},
     "output_type": "execute_result"
    }
   ],
   "source": [
    "type(d)"
   ]
  },
  {
   "cell_type": "code",
   "execution_count": 3,
   "id": "0ec86b5e-d496-4dd9-ac83-13826fe9cf48",
   "metadata": {},
   "outputs": [],
   "source": [
    "d1 = {\"Key\" : \"Value\"}"
   ]
  },
  {
   "cell_type": "code",
   "execution_count": 4,
   "id": "33cff557-c4e4-4940-8433-2bad0042cfce",
   "metadata": {},
   "outputs": [
    {
     "data": {
      "text/plain": [
       "{'Key': 'Value'}"
      ]
     },
     "execution_count": 4,
     "metadata": {},
     "output_type": "execute_result"
    }
   ],
   "source": [
    "d1"
   ]
  },
  {
   "cell_type": "code",
   "execution_count": 5,
   "id": "18ef137e-8b93-4433-abe7-cf646d315ea5",
   "metadata": {},
   "outputs": [],
   "source": [
    "d2 = {'name':'Tillu','email':'tillu@gmail.com','number':'123'}"
   ]
  },
  {
   "cell_type": "code",
   "execution_count": 6,
   "id": "ab0e7435-59be-4561-848f-40bfe7b111c4",
   "metadata": {},
   "outputs": [
    {
     "data": {
      "text/plain": [
       "{'name': 'Tillu', 'email': 'tillu@gmail.com', 'number': '123'}"
      ]
     },
     "execution_count": 6,
     "metadata": {},
     "output_type": "execute_result"
    }
   ],
   "source": [
    "d2"
   ]
  },
  {
   "cell_type": "code",
   "execution_count": 19,
   "id": "d86efbd2-7677-49a8-8d32-85a0479fe6df",
   "metadata": {},
   "outputs": [],
   "source": [
    "d3 = {225 : \"RRR\", \"_P\": \"Kunal\", True : \"Yes\"} # True = 1 or Flase = 0"
   ]
  },
  {
   "cell_type": "code",
   "execution_count": 20,
   "id": "1412989a-7e92-4887-a2e1-c596461badc1",
   "metadata": {},
   "outputs": [
    {
     "data": {
      "text/plain": [
       "{225: 'RRR', '_P': 'Kunal', True: 'Yes'}"
      ]
     },
     "execution_count": 20,
     "metadata": {},
     "output_type": "execute_result"
    }
   ],
   "source": [
    "d3"
   ]
  },
  {
   "cell_type": "code",
   "execution_count": 21,
   "id": "6622dfe2-5f29-4974-bc05-fc6075133d62",
   "metadata": {},
   "outputs": [
    {
     "data": {
      "text/plain": [
       "'RRR'"
      ]
     },
     "execution_count": 21,
     "metadata": {},
     "output_type": "execute_result"
    }
   ],
   "source": [
    "d3[225]"
   ]
  },
  {
   "cell_type": "code",
   "execution_count": 24,
   "id": "2294226a-635e-43ee-8c8f-3e37d1a53019",
   "metadata": {},
   "outputs": [
    {
     "data": {
      "text/plain": [
       "'Yes'"
      ]
     },
     "execution_count": 24,
     "metadata": {},
     "output_type": "execute_result"
    }
   ],
   "source": [
    "d3[True]"
   ]
  },
  {
   "cell_type": "code",
   "execution_count": 26,
   "id": "4b65c04e-9728-4ad4-bb1d-9674825a3b72",
   "metadata": {},
   "outputs": [
    {
     "data": {
      "text/plain": [
       "'Yes'"
      ]
     },
     "execution_count": 26,
     "metadata": {},
     "output_type": "execute_result"
    }
   ],
   "source": [
    "d3[1] # True = 1"
   ]
  },
  {
   "cell_type": "code",
   "execution_count": 27,
   "id": "e25ffe6c-5d5d-4ef6-ac74-a878d822d2f3",
   "metadata": {},
   "outputs": [],
   "source": [
    "d4 = {'name':'Kumar','mail_id':'Kumar@.com','roll_no':'12'}"
   ]
  },
  {
   "cell_type": "code",
   "execution_count": 28,
   "id": "d717c435-bf01-46df-a7d5-dc39c3eb2715",
   "metadata": {},
   "outputs": [
    {
     "data": {
      "text/plain": [
       "'Kumar'"
      ]
     },
     "execution_count": 28,
     "metadata": {},
     "output_type": "execute_result"
    }
   ],
   "source": [
    "d4['name']"
   ]
  },
  {
   "cell_type": "code",
   "execution_count": 29,
   "id": "b56e9388-dfa4-4192-9667-69eb24744a96",
   "metadata": {},
   "outputs": [],
   "source": [
    "d5 = {'company':'Chuchu','course':['web dev','data science','data analysis' ]}"
   ]
  },
  {
   "cell_type": "code",
   "execution_count": 30,
   "id": "6a4f91e4-9958-4f01-8ecc-05c58d398165",
   "metadata": {},
   "outputs": [
    {
     "data": {
      "text/plain": [
       "['web dev', 'data science', 'data analysis']"
      ]
     },
     "execution_count": 30,
     "metadata": {},
     "output_type": "execute_result"
    }
   ],
   "source": [
    "d5['course']"
   ]
  },
  {
   "cell_type": "code",
   "execution_count": 31,
   "id": "8af050cf-e3d6-44c9-9559-6607b0d376eb",
   "metadata": {},
   "outputs": [
    {
     "data": {
      "text/plain": [
       "'data analysis'"
      ]
     },
     "execution_count": 31,
     "metadata": {},
     "output_type": "execute_result"
    }
   ],
   "source": [
    "d5['course'][2]"
   ]
  },
  {
   "cell_type": "code",
   "execution_count": 32,
   "id": "14bd2edf-2a3a-450e-bd6b-c8ee7a293b82",
   "metadata": {},
   "outputs": [],
   "source": [
    " d6 = {'number':[2,8,16,45], 'assignment':(9,5,8,7,1), 'Lunch time':{94,12,45,18}, 'class_time':{'web dev': 8, 'Data scienc': 4 } }"
   ]
  },
  {
   "cell_type": "code",
   "execution_count": 33,
   "id": "d53959e3-e7f7-4247-8e2e-9e38f65744b0",
   "metadata": {},
   "outputs": [
    {
     "data": {
      "text/plain": [
       "{'number': [2, 8, 16, 45],\n",
       " 'assignment': (9, 5, 8, 7, 1),\n",
       " 'Lunch time': {12, 18, 45, 94},\n",
       " 'class_time': {'web dev': 8, 'Data scienc': 4}}"
      ]
     },
     "execution_count": 33,
     "metadata": {},
     "output_type": "execute_result"
    }
   ],
   "source": [
    "d6"
   ]
  },
  {
   "cell_type": "code",
   "execution_count": 34,
   "id": "64e9439e-eb01-4098-a3d4-31b2593dbb75",
   "metadata": {},
   "outputs": [
    {
     "data": {
      "text/plain": [
       "{'web dev': 8, 'Data scienc': 4}"
      ]
     },
     "execution_count": 34,
     "metadata": {},
     "output_type": "execute_result"
    }
   ],
   "source": [
    "d6['class_time']"
   ]
  },
  {
   "cell_type": "code",
   "execution_count": 37,
   "id": "bc34295e-e29d-41a9-bcb7-783fe82b728a",
   "metadata": {},
   "outputs": [
    {
     "data": {
      "text/plain": [
       "4"
      ]
     },
     "execution_count": 37,
     "metadata": {},
     "output_type": "execute_result"
    }
   ],
   "source": [
    "d6['class_time']['Data scienc']"
   ]
  },
  {
   "cell_type": "code",
   "execution_count": 38,
   "id": "d5bcde42-815e-4560-b124-0837a9132078",
   "metadata": {},
   "outputs": [
    {
     "data": {
      "text/plain": [
       "{'number': [2, 8, 16, 45],\n",
       " 'assignment': (9, 5, 8, 7, 1),\n",
       " 'Lunch time': {12, 18, 45, 94},\n",
       " 'class_time': {'web dev': 8, 'Data scienc': 4}}"
      ]
     },
     "execution_count": 38,
     "metadata": {},
     "output_type": "execute_result"
    }
   ],
   "source": [
    "d6"
   ]
  },
  {
   "cell_type": "code",
   "execution_count": 39,
   "id": "152eb704-4812-470a-ab63-2dea1ddb131a",
   "metadata": {},
   "outputs": [],
   "source": [
    "d6['mentor'] = ['Farhan','Qureshi','Vicky']"
   ]
  },
  {
   "cell_type": "code",
   "execution_count": 40,
   "id": "3626f990-62db-439c-aa1b-a7252a6b9574",
   "metadata": {},
   "outputs": [
    {
     "data": {
      "text/plain": [
       "{'number': [2, 8, 16, 45],\n",
       " 'assignment': (9, 5, 8, 7, 1),\n",
       " 'Lunch time': {12, 18, 45, 94},\n",
       " 'class_time': {'web dev': 8, 'Data scienc': 4},\n",
       " 'mentor': ['Farhan', 'Qureshi', 'Vicky']}"
      ]
     },
     "execution_count": 40,
     "metadata": {},
     "output_type": "execute_result"
    }
   ],
   "source": [
    "d6"
   ]
  },
  {
   "cell_type": "code",
   "execution_count": 41,
   "id": "befd843c-81cf-4f1d-9a3d-04e0b59f2465",
   "metadata": {},
   "outputs": [],
   "source": [
    "del d6['mentor']"
   ]
  },
  {
   "cell_type": "code",
   "execution_count": 42,
   "id": "e33bbecd-ecc4-46bc-a15b-c183687a339f",
   "metadata": {},
   "outputs": [
    {
     "data": {
      "text/plain": [
       "{'number': [2, 8, 16, 45],\n",
       " 'assignment': (9, 5, 8, 7, 1),\n",
       " 'Lunch time': {12, 18, 45, 94},\n",
       " 'class_time': {'web dev': 8, 'Data scienc': 4}}"
      ]
     },
     "execution_count": 42,
     "metadata": {},
     "output_type": "execute_result"
    }
   ],
   "source": [
    "d6"
   ]
  },
  {
   "cell_type": "code",
   "execution_count": 49,
   "id": "85c93046-1da2-4519-a73b-8df3c5274a5c",
   "metadata": {},
   "outputs": [
    {
     "data": {
      "text/plain": [
       "dict_keys(['number', 'assignment', 'Lunch time', 'class_time'])"
      ]
     },
     "execution_count": 49,
     "metadata": {},
     "output_type": "execute_result"
    }
   ],
   "source": [
    "d6.keys()"
   ]
  },
  {
   "cell_type": "code",
   "execution_count": 50,
   "id": "e19fec89-1f8f-4451-935b-18579788a19c",
   "metadata": {},
   "outputs": [
    {
     "data": {
      "text/plain": [
       "['number', 'assignment', 'Lunch time', 'class_time']"
      ]
     },
     "execution_count": 50,
     "metadata": {},
     "output_type": "execute_result"
    }
   ],
   "source": [
    "list(d6.keys())"
   ]
  },
  {
   "cell_type": "code",
   "execution_count": 51,
   "id": "5b4e11e6-0a69-453c-93b0-2d57ada39ec3",
   "metadata": {},
   "outputs": [
    {
     "data": {
      "text/plain": [
       "dict_values([[2, 8, 16, 45], (9, 5, 8, 7, 1), {18, 12, 45, 94}, {'web dev': 8, 'Data scienc': 4}])"
      ]
     },
     "execution_count": 51,
     "metadata": {},
     "output_type": "execute_result"
    }
   ],
   "source": [
    "d6.values()"
   ]
  },
  {
   "cell_type": "code",
   "execution_count": 52,
   "id": "f9b59411-ec4f-407d-a835-6fa4712e6e28",
   "metadata": {},
   "outputs": [
    {
     "data": {
      "text/plain": [
       "[[2, 8, 16, 45],\n",
       " (9, 5, 8, 7, 1),\n",
       " {12, 18, 45, 94},\n",
       " {'web dev': 8, 'Data scienc': 4}]"
      ]
     },
     "execution_count": 52,
     "metadata": {},
     "output_type": "execute_result"
    }
   ],
   "source": [
    "list(d6.values())"
   ]
  },
  {
   "cell_type": "code",
   "execution_count": 53,
   "id": "ea8ea140-a2bf-498f-82f6-aea54f5769a0",
   "metadata": {},
   "outputs": [
    {
     "data": {
      "text/plain": [
       "dict_items([('number', [2, 8, 16, 45]), ('assignment', (9, 5, 8, 7, 1)), ('Lunch time', {18, 12, 45, 94}), ('class_time', {'web dev': 8, 'Data scienc': 4})])"
      ]
     },
     "execution_count": 53,
     "metadata": {},
     "output_type": "execute_result"
    }
   ],
   "source": [
    "d6.items()"
   ]
  },
  {
   "cell_type": "code",
   "execution_count": 55,
   "id": "c4b5c0eb-0baa-423f-a823-a94badc6b485",
   "metadata": {},
   "outputs": [
    {
     "data": {
      "text/plain": [
       "[('number', [2, 8, 16, 45]),\n",
       " ('assignment', (9, 5, 8, 7, 1)),\n",
       " ('Lunch time', {12, 18, 45, 94}),\n",
       " ('class_time', {'web dev': 8, 'Data scienc': 4})]"
      ]
     },
     "execution_count": 55,
     "metadata": {},
     "output_type": "execute_result"
    }
   ],
   "source": [
    "list(d6.items())"
   ]
  },
  {
   "cell_type": "code",
   "execution_count": 56,
   "id": "1e239ee6-6dea-48dd-8053-4ba072ea8e52",
   "metadata": {},
   "outputs": [
    {
     "ename": "TypeError",
     "evalue": "pop expected at least 1 argument, got 0",
     "output_type": "error",
     "traceback": [
      "\u001b[0;31m---------------------------------------------------------------------------\u001b[0m",
      "\u001b[0;31mTypeError\u001b[0m                                 Traceback (most recent call last)",
      "Cell \u001b[0;32mIn[56], line 1\u001b[0m\n\u001b[0;32m----> 1\u001b[0m \u001b[43md6\u001b[49m\u001b[38;5;241;43m.\u001b[39;49m\u001b[43mpop\u001b[49m\u001b[43m(\u001b[49m\u001b[43m)\u001b[49m\n",
      "\u001b[0;31mTypeError\u001b[0m: pop expected at least 1 argument, got 0"
     ]
    }
   ],
   "source": [
    "d6.pop()"
   ]
  },
  {
   "cell_type": "code",
   "execution_count": null,
   "id": "70af7e15-38e7-4539-9d75-f22a9ebec13a",
   "metadata": {},
   "outputs": [],
   "source": []
  },
  {
   "cell_type": "code",
   "execution_count": 57,
   "id": "aa171a26-e53b-4d24-8106-39bab51e695d",
   "metadata": {},
   "outputs": [],
   "source": [
    "# Conditional Statement"
   ]
  },
  {
   "cell_type": "code",
   "execution_count": 72,
   "id": "cb1fc051-cf54-4b4e-8d38-839ef72e7761",
   "metadata": {},
   "outputs": [
    {
     "name": "stdout",
     "output_type": "stream",
     "text": [
      "You will get B+ grade\n"
     ]
    }
   ],
   "source": [
    "Grade = 65  # We can't put number again and again\n",
    "if Grade >=91 :\n",
    "    print(\"You will get O grade\")\n",
    "elif Grade >=82 and Grade <91 :\n",
    "    print(\"You will get A+ grade\")\n",
    "elif Grade >=73 and Grade <82 :\n",
    "    print(\"You will get A grade\")\n",
    "elif Grade >=64 and Grade <73 :\n",
    "    print(\"You will get B+ grade\")\n",
    "elif Grade >=55 and Grade <64 :\n",
    "    print(\"You will get B grade\")\n",
    "else :\n",
    "    print(\"You will get F grade\")"
   ]
  },
  {
   "cell_type": "code",
   "execution_count": 64,
   "id": "6c3d4be8-592d-42d2-899b-612f81ed6ad6",
   "metadata": {},
   "outputs": [
    {
     "name": "stdin",
     "output_type": "stream",
     "text": [
      "Enter your number 18\n"
     ]
    }
   ],
   "source": [
    "Grade = input(\"Enter your number\")"
   ]
  },
  {
   "cell_type": "code",
   "execution_count": 65,
   "id": "7d606792-7fc4-4fef-9815-7be960d233ea",
   "metadata": {},
   "outputs": [
    {
     "data": {
      "text/plain": [
       "'18'"
      ]
     },
     "execution_count": 65,
     "metadata": {},
     "output_type": "execute_result"
    }
   ],
   "source": [
    "Grade"
   ]
  },
  {
   "cell_type": "code",
   "execution_count": 66,
   "id": "a0b76a0a-8aeb-4c43-ac9f-706257d970d7",
   "metadata": {},
   "outputs": [
    {
     "data": {
      "text/plain": [
       "str"
      ]
     },
     "execution_count": 66,
     "metadata": {},
     "output_type": "execute_result"
    }
   ],
   "source": [
    "type(Grade) # Problem is input convert int to str"
   ]
  },
  {
   "cell_type": "code",
   "execution_count": 67,
   "id": "5389e151-1f2c-4e97-8e01-23f5583f5c3c",
   "metadata": {},
   "outputs": [
    {
     "name": "stdin",
     "output_type": "stream",
     "text": [
      "Enter your number 25\n"
     ]
    }
   ],
   "source": [
    "Grade = int(input(\"Enter your number\"))"
   ]
  },
  {
   "cell_type": "code",
   "execution_count": 68,
   "id": "cb6b08fe-8aa8-44a9-929f-be1aaddc7a82",
   "metadata": {},
   "outputs": [
    {
     "data": {
      "text/plain": [
       "25"
      ]
     },
     "execution_count": 68,
     "metadata": {},
     "output_type": "execute_result"
    }
   ],
   "source": [
    "Grade"
   ]
  },
  {
   "cell_type": "code",
   "execution_count": 69,
   "id": "9a866915-036c-4e3e-a2c3-03dd3c77efd2",
   "metadata": {},
   "outputs": [
    {
     "data": {
      "text/plain": [
       "int"
      ]
     },
     "execution_count": 69,
     "metadata": {},
     "output_type": "execute_result"
    }
   ],
   "source": [
    "type(Grade) # Now grade not int"
   ]
  },
  {
   "cell_type": "code",
   "execution_count": 75,
   "id": "54cddcdd-f2cb-480c-b617-9f1123ea3231",
   "metadata": {},
   "outputs": [
    {
     "name": "stdin",
     "output_type": "stream",
     "text": [
      "Enter your Marks 64\n"
     ]
    },
    {
     "name": "stdout",
     "output_type": "stream",
     "text": [
      "You will get B+ grade\n"
     ]
    }
   ],
   "source": [
    "Grade = int(input(\"Enter your Marks\"))\n",
    "if Grade >=91 :\n",
    "    print(\"You will get O grade\")\n",
    "elif Grade >=82 and Grade <91 :\n",
    "    print(\"You will get A+ grade\")\n",
    "elif Grade >=73 and Grade <82 :\n",
    "    print(\"You will get A grade\")\n",
    "elif Grade >=64 and Grade <73 :\n",
    "    print(\"You will get B+ grade\")\n",
    "elif Grade >=55 and Grade <64 :\n",
    "    print(\"You will get B grade\")\n",
    "else :\n",
    "    print(\"You will get F grade\")"
   ]
  },
  {
   "cell_type": "code",
   "execution_count": 76,
   "id": "81fa5f96-b354-42f3-9829-18cb3a57bbb1",
   "metadata": {},
   "outputs": [
    {
     "name": "stdin",
     "output_type": "stream",
     "text": [
      "enter price 500\n"
     ]
    }
   ],
   "source": [
    "price = int(input(\"enter price\"))\n",
    "if price >1000: # Only use of if\n",
    "    print(\"I will not purchase\")"
   ]
  },
  {
   "cell_type": "code",
   "execution_count": 79,
   "id": "cc9fd96e-068b-4dc7-b806-08d81894cdcc",
   "metadata": {},
   "outputs": [
    {
     "name": "stdin",
     "output_type": "stream",
     "text": [
      "enter price 10\n"
     ]
    },
    {
     "name": "stdout",
     "output_type": "stream",
     "text": [
      "I will purchase\n"
     ]
    }
   ],
   "source": [
    "price = int(input(\"enter price\"))\n",
    "if price >1000:\n",
    "    print(\"I will not purchase\")\n",
    "else :\n",
    "    print(\"I will purchase\")"
   ]
  },
  {
   "cell_type": "code",
   "execution_count": 87,
   "id": "269bd3d9-abf5-40c4-98b8-e8ef17e27a11",
   "metadata": {},
   "outputs": [
    {
     "name": "stdin",
     "output_type": "stream",
     "text": [
      "enter price 9000\n"
     ]
    },
    {
     "name": "stdout",
     "output_type": "stream",
     "text": [
      "I will not purchase\n",
      "This is too much\n"
     ]
    }
   ],
   "source": [
    "price = int(input(\"enter price\"))\n",
    "if price >1000:\n",
    "    print(\"I will not purchase\")\n",
    "    if price >5000:\n",
    "        print(\"This is too much\")\n",
    "    elif price < 2000 :\n",
    "            print(\"It's ok\")\n",
    "else :\n",
    "    print(\"Not interested\")\n",
    "    print(\"I will not purcjase\")\n",
    "    if price >5000 :\n",
    "        print(\"This is tooo much\")\n",
    "    elif price < 2000 :\n",
    "        print(\"It's OK\")"
   ]
  },
  {
   "cell_type": "code",
   "execution_count": null,
   "id": "ddcd6c92-128b-4d1b-85ff-ccbeb357e147",
   "metadata": {},
   "outputs": [],
   "source": []
  },
  {
   "cell_type": "code",
   "execution_count": 1,
   "id": "2156fceb-0bc7-4110-896a-e2e2b71b209c",
   "metadata": {},
   "outputs": [],
   "source": [
    "# Loop"
   ]
  },
  {
   "cell_type": "code",
   "execution_count": 3,
   "id": "762c3ce7-92f8-495a-a2ce-55b8eb4f6393",
   "metadata": {},
   "outputs": [],
   "source": [
    "l = [46,15,74,64,48,24,12]"
   ]
  },
  {
   "cell_type": "code",
   "execution_count": 4,
   "id": "3417f227-5398-4eeb-a1b1-d1b93a5a6a89",
   "metadata": {},
   "outputs": [
    {
     "name": "stdout",
     "output_type": "stream",
     "text": [
      "46\n",
      "15\n",
      "74\n",
      "64\n",
      "48\n",
      "24\n",
      "12\n"
     ]
    }
   ],
   "source": [
    "for i in l:\n",
    "    print(i) # print one by one value"
   ]
  },
  {
   "cell_type": "code",
   "execution_count": 5,
   "id": "16494a41-a0b6-4fb6-95f4-58ce0ed76df5",
   "metadata": {},
   "outputs": [
    {
     "name": "stdout",
     "output_type": "stream",
     "text": [
      "[46, 15, 74, 64, 48, 24, 12]\n",
      "[46, 15, 74, 64, 48, 24, 12]\n",
      "[46, 15, 74, 64, 48, 24, 12]\n",
      "[46, 15, 74, 64, 48, 24, 12]\n",
      "[46, 15, 74, 64, 48, 24, 12]\n",
      "[46, 15, 74, 64, 48, 24, 12]\n",
      "[46, 15, 74, 64, 48, 24, 12]\n"
     ]
    }
   ],
   "source": [
    "for i in l:\n",
    "    print(l) # Print all value "
   ]
  },
  {
   "cell_type": "code",
   "execution_count": 6,
   "id": "111e84b8-a4b1-4282-aea3-27ed37ef9825",
   "metadata": {},
   "outputs": [
    {
     "name": "stdout",
     "output_type": "stream",
     "text": [
      "47\n",
      "16\n",
      "75\n",
      "65\n",
      "49\n",
      "25\n",
      "13\n"
     ]
    }
   ],
   "source": [
    "for i in l:\n",
    "    print(i+1)"
   ]
  },
  {
   "cell_type": "code",
   "execution_count": 8,
   "id": "2a921d3b-ebbf-464c-9ce5-cf188ae5603e",
   "metadata": {},
   "outputs": [
    {
     "name": "stdout",
     "output_type": "stream",
     "text": [
      "47\n",
      "16\n",
      "75\n",
      "65\n",
      "49\n",
      "25\n",
      "13\n"
     ]
    },
    {
     "data": {
      "text/plain": [
       "[48, 17, 76, 66, 50, 26, 14]"
      ]
     },
     "execution_count": 8,
     "metadata": {},
     "output_type": "execute_result"
    }
   ],
   "source": [
    "l1 = []\n",
    "for i in l:\n",
    "    print(i+1)\n",
    "    l1.append(i+2)\n",
    "l1"
   ]
  },
  {
   "cell_type": "code",
   "execution_count": 14,
   "id": "addc0711-785a-4dc7-a4cb-f6aeae2c579f",
   "metadata": {},
   "outputs": [],
   "source": [
    "l = ['Tinku','Pinku','Rinku']"
   ]
  },
  {
   "cell_type": "code",
   "execution_count": 15,
   "id": "6a42e69a-ae17-4f5b-978e-0e285c6e174f",
   "metadata": {},
   "outputs": [
    {
     "name": "stdout",
     "output_type": "stream",
     "text": [
      "Tinku\n",
      "Pinku\n",
      "Rinku\n"
     ]
    }
   ],
   "source": [
    "for i in l :\n",
    "    print(i)"
   ]
  },
  {
   "cell_type": "code",
   "execution_count": 16,
   "id": "c15cae85-95cf-4957-a0eb-305c296aebf9",
   "metadata": {},
   "outputs": [
    {
     "name": "stdout",
     "output_type": "stream",
     "text": [
      "Tinku\n",
      "Pinku\n",
      "Rinku\n"
     ]
    }
   ],
   "source": [
    "l1 = []\n",
    "for i in l :\n",
    "    print(i)\n",
    "    l1.append(i.upper())"
   ]
  },
  {
   "cell_type": "code",
   "execution_count": 17,
   "id": "2ccff9d8-f3ca-4192-9d93-ada8bfad6044",
   "metadata": {},
   "outputs": [
    {
     "data": {
      "text/plain": [
       "['TINKU', 'PINKU', 'RINKU']"
      ]
     },
     "execution_count": 17,
     "metadata": {},
     "output_type": "execute_result"
    }
   ],
   "source": [
    "l1"
   ]
  },
  {
   "cell_type": "code",
   "execution_count": 19,
   "id": "65b599e6-82d0-42c2-95e5-4c6bb6d25b8a",
   "metadata": {},
   "outputs": [],
   "source": [
    "l = [91,26,'TINKU',20.2, 78, 'PINKU',664, 'RINKU']"
   ]
  },
  {
   "cell_type": "code",
   "execution_count": 21,
   "id": "5d57b3b2-56f5-4244-90e3-1a25e68aff61",
   "metadata": {},
   "outputs": [],
   "source": [
    "l1_int = []\n",
    "l2_str = []\n",
    "for i in l:\n",
    "    if type(i) == int or type(i) == float :\n",
    "        l1_int.append(i)\n",
    "    else :\n",
    "        l2_str.append(i)"
   ]
  },
  {
   "cell_type": "code",
   "execution_count": 24,
   "id": "e88cbb30-9667-4327-bef8-13e12a6f1c7d",
   "metadata": {},
   "outputs": [
    {
     "data": {
      "text/plain": [
       "[91, 26, 20.2, 78, 664]"
      ]
     },
     "execution_count": 24,
     "metadata": {},
     "output_type": "execute_result"
    }
   ],
   "source": [
    "l1_int"
   ]
  },
  {
   "cell_type": "code",
   "execution_count": 25,
   "id": "97750c28-fd6a-4eb3-b770-dcad49985e75",
   "metadata": {},
   "outputs": [
    {
     "data": {
      "text/plain": [
       "['TINKU', 'PINKU', 'RINKU']"
      ]
     },
     "execution_count": 25,
     "metadata": {},
     "output_type": "execute_result"
    }
   ],
   "source": [
    "l2_str"
   ]
  },
  {
   "cell_type": "code",
   "execution_count": null,
   "id": "f608371e-1b2e-49eb-bd14-86f826c42e96",
   "metadata": {},
   "outputs": [],
   "source": []
  }
 ],
 "metadata": {
  "kernelspec": {
   "display_name": "Python 3 (ipykernel)",
   "language": "python",
   "name": "python3"
  },
  "language_info": {
   "codemirror_mode": {
    "name": "ipython",
    "version": 3
   },
   "file_extension": ".py",
   "mimetype": "text/x-python",
   "name": "python",
   "nbconvert_exporter": "python",
   "pygments_lexer": "ipython3",
   "version": "3.10.8"
  }
 },
 "nbformat": 4,
 "nbformat_minor": 5
}
