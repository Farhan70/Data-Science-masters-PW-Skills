{
 "cells": [
  {
   "cell_type": "code",
   "execution_count": 3,
   "id": "75f1580e-df79-45ca-aa54-808195b67f74",
   "metadata": {},
   "outputs": [],
   "source": [
    "# List in python "
   ]
  },
  {
   "cell_type": "code",
   "execution_count": 4,
   "id": "eb31c694-e045-49af-a03b-900c4ea867c2",
   "metadata": {},
   "outputs": [],
   "source": [
    "L = [12, \"Jack\", 3+5j, 3.56, True, 36 ]    # If we use square bracates python treated as a list"
   ]
  },
  {
   "cell_type": "code",
   "execution_count": 5,
   "id": "ce78cb6e-ee39-4964-9cf0-9404ec63f970",
   "metadata": {},
   "outputs": [
    {
     "data": {
      "text/plain": [
       "list"
      ]
     },
     "execution_count": 5,
     "metadata": {},
     "output_type": "execute_result"
    }
   ],
   "source": [
    "type(L)"
   ]
  },
  {
   "cell_type": "code",
   "execution_count": 6,
   "id": "d2969325-f0ba-42b2-a4b4-dab004e750af",
   "metadata": {},
   "outputs": [
    {
     "data": {
      "text/plain": [
       "12"
      ]
     },
     "execution_count": 6,
     "metadata": {},
     "output_type": "execute_result"
    }
   ],
   "source": [
    "L[0]"
   ]
  },
  {
   "cell_type": "code",
   "execution_count": 7,
   "id": "4a4c9e85-8ac1-49c5-8549-bcdc576e6f41",
   "metadata": {},
   "outputs": [
    {
     "data": {
      "text/plain": [
       "36"
      ]
     },
     "execution_count": 7,
     "metadata": {},
     "output_type": "execute_result"
    }
   ],
   "source": [
    "L[-1]"
   ]
  },
  {
   "cell_type": "code",
   "execution_count": 8,
   "id": "34ed1716-f88c-4aae-9fff-3ee3946d608a",
   "metadata": {},
   "outputs": [
    {
     "data": {
      "text/plain": [
       "True"
      ]
     },
     "execution_count": 8,
     "metadata": {},
     "output_type": "execute_result"
    }
   ],
   "source": [
    "L[4]"
   ]
  },
  {
   "cell_type": "code",
   "execution_count": 9,
   "id": "d31c1600-58dd-423a-88dd-69b92c589459",
   "metadata": {},
   "outputs": [
    {
     "ename": "IndexError",
     "evalue": "list index out of range",
     "output_type": "error",
     "traceback": [
      "\u001b[0;31m---------------------------------------------------------------------------\u001b[0m",
      "\u001b[0;31mIndexError\u001b[0m                                Traceback (most recent call last)",
      "Cell \u001b[0;32mIn[9], line 1\u001b[0m\n\u001b[0;32m----> 1\u001b[0m \u001b[43mL\u001b[49m\u001b[43m[\u001b[49m\u001b[38;5;241;43m90\u001b[39;49m\u001b[43m]\u001b[49m\n",
      "\u001b[0;31mIndexError\u001b[0m: list index out of range"
     ]
    }
   ],
   "source": [
    "L[90]"
   ]
  },
  {
   "cell_type": "code",
   "execution_count": null,
   "id": "dbfef19a-1e5c-4dd6-b08d-82ca7d85ef30",
   "metadata": {},
   "outputs": [],
   "source": [
    "L[0:5]"
   ]
  },
  {
   "cell_type": "code",
   "execution_count": 10,
   "id": "849868bd-e5f5-415b-b49d-94352e75a15f",
   "metadata": {},
   "outputs": [
    {
     "data": {
      "text/plain": [
       "[12, 'Jack', (3+5j)]"
      ]
     },
     "execution_count": 10,
     "metadata": {},
     "output_type": "execute_result"
    }
   ],
   "source": [
    "L[0:3]"
   ]
  },
  {
   "cell_type": "code",
   "execution_count": 11,
   "id": "121941df-1977-4adf-97c0-1356d203da5c",
   "metadata": {},
   "outputs": [
    {
     "data": {
      "text/plain": [
       "[36, True, 3.56, (3+5j), 'Jack', 12]"
      ]
     },
     "execution_count": 11,
     "metadata": {},
     "output_type": "execute_result"
    }
   ],
   "source": [
    "L[::-1]"
   ]
  },
  {
   "cell_type": "code",
   "execution_count": 12,
   "id": "b42180ef-9064-4024-9079-82434195270b",
   "metadata": {},
   "outputs": [
    {
     "data": {
      "text/plain": [
       "[12, (3+5j), True]"
      ]
     },
     "execution_count": 12,
     "metadata": {},
     "output_type": "execute_result"
    }
   ],
   "source": [
    "L[::2]"
   ]
  },
  {
   "cell_type": "code",
   "execution_count": 13,
   "id": "af06eb2d-3b0b-46d4-9775-a705c1ae0ae1",
   "metadata": {},
   "outputs": [],
   "source": [
    "s = \"Qureshi\""
   ]
  },
  {
   "cell_type": "code",
   "execution_count": 14,
   "id": "d14539a2-9a10-45e0-a2c7-77251c118e8d",
   "metadata": {},
   "outputs": [
    {
     "ename": "TypeError",
     "evalue": "can only concatenate list (not \"str\") to list",
     "output_type": "error",
     "traceback": [
      "\u001b[0;31m---------------------------------------------------------------------------\u001b[0m",
      "\u001b[0;31mTypeError\u001b[0m                                 Traceback (most recent call last)",
      "Cell \u001b[0;32mIn[14], line 1\u001b[0m\n\u001b[0;32m----> 1\u001b[0m \u001b[43mL\u001b[49m\u001b[38;5;241;43m+\u001b[39;49m\u001b[43ms\u001b[49m  \u001b[38;5;66;03m# We can't add list or string. Both are different type of nature.\u001b[39;00m\n",
      "\u001b[0;31mTypeError\u001b[0m: can only concatenate list (not \"str\") to list"
     ]
    }
   ],
   "source": [
    "L+s  # We can't add list or string. Both are different type of nature."
   ]
  },
  {
   "cell_type": "code",
   "execution_count": 15,
   "id": "6184f5e5-d7d6-4406-b534-7fb7d46df26a",
   "metadata": {},
   "outputs": [
    {
     "data": {
      "text/plain": [
       "['Q', 'u', 'r', 'e', 's', 'h', 'i']"
      ]
     },
     "execution_count": 15,
     "metadata": {},
     "output_type": "execute_result"
    }
   ],
   "source": [
    "list(s) # if we do list as a function. We can't make string to list using function"
   ]
  },
  {
   "cell_type": "code",
   "execution_count": 16,
   "id": "d2f80291-6fd7-4047-b0d7-b9932d36a97f",
   "metadata": {},
   "outputs": [
    {
     "data": {
      "text/plain": [
       "[12, 'Jack', (3+5j), 3.56, True, 36]"
      ]
     },
     "execution_count": 16,
     "metadata": {},
     "output_type": "execute_result"
    }
   ],
   "source": [
    "L"
   ]
  },
  {
   "cell_type": "code",
   "execution_count": 17,
   "id": "da2526f2-a35b-4816-87c6-f47c13ce2fdd",
   "metadata": {},
   "outputs": [
    {
     "data": {
      "text/plain": [
       "'Jack'"
      ]
     },
     "execution_count": 17,
     "metadata": {},
     "output_type": "execute_result"
    }
   ],
   "source": [
    "L[1]"
   ]
  },
  {
   "cell_type": "code",
   "execution_count": 18,
   "id": "abd78b57-8a8b-4a75-abf5-e8a91ed90ec8",
   "metadata": {},
   "outputs": [
    {
     "data": {
      "text/plain": [
       "str"
      ]
     },
     "execution_count": 18,
     "metadata": {},
     "output_type": "execute_result"
    }
   ],
   "source": [
    "type(L[1]) # In list Jack store as a string"
   ]
  },
  {
   "cell_type": "code",
   "execution_count": 19,
   "id": "7e8c0dda-d52b-4291-9504-8bc42d13c459",
   "metadata": {},
   "outputs": [
    {
     "data": {
      "text/plain": [
       "'Ja'"
      ]
     },
     "execution_count": 19,
     "metadata": {},
     "output_type": "execute_result"
    }
   ],
   "source": [
    "L[1][0:2]"
   ]
  },
  {
   "cell_type": "code",
   "execution_count": 20,
   "id": "2d734d4e-8cf7-46e7-b189-72dc53c0a9ea",
   "metadata": {},
   "outputs": [
    {
     "data": {
      "text/plain": [
       "True"
      ]
     },
     "execution_count": 20,
     "metadata": {},
     "output_type": "execute_result"
    }
   ],
   "source": [
    "L[4]"
   ]
  },
  {
   "cell_type": "code",
   "execution_count": 21,
   "id": "6963fe69-8b29-447b-81d2-0ffdde1ffc6d",
   "metadata": {},
   "outputs": [
    {
     "data": {
      "text/plain": [
       "bool"
      ]
     },
     "execution_count": 21,
     "metadata": {},
     "output_type": "execute_result"
    }
   ],
   "source": [
    "type(L[4])"
   ]
  },
  {
   "cell_type": "code",
   "execution_count": 22,
   "id": "afe0fe6a-729c-4f57-bdea-7d39d1bfad64",
   "metadata": {},
   "outputs": [
    {
     "data": {
      "text/plain": [
       "'Tr'"
      ]
     },
     "execution_count": 22,
     "metadata": {},
     "output_type": "execute_result"
    }
   ],
   "source": [
    "str(L[4])[0:2] # We convert True as bollean to string."
   ]
  },
  {
   "cell_type": "code",
   "execution_count": 23,
   "id": "2036c98e-2958-4e42-a97c-4d0479dbf6ec",
   "metadata": {},
   "outputs": [
    {
     "ename": "TypeError",
     "evalue": "can only concatenate list (not \"int\") to list",
     "output_type": "error",
     "traceback": [
      "\u001b[0;31m---------------------------------------------------------------------------\u001b[0m",
      "\u001b[0;31mTypeError\u001b[0m                                 Traceback (most recent call last)",
      "Cell \u001b[0;32mIn[23], line 1\u001b[0m\n\u001b[0;32m----> 1\u001b[0m \u001b[43mL\u001b[49m\u001b[43m \u001b[49m\u001b[38;5;241;43m+\u001b[39;49m\u001b[43m \u001b[49m\u001b[38;5;241;43m5\u001b[39;49m\n",
      "\u001b[0;31mTypeError\u001b[0m: can only concatenate list (not \"int\") to list"
     ]
    }
   ],
   "source": [
    "L + 5"
   ]
  },
  {
   "cell_type": "code",
   "execution_count": 24,
   "id": "74c8b1b6-d6d6-496a-bfb2-cd52e0bd15f4",
   "metadata": {},
   "outputs": [],
   "source": [
    "L1 = [3,5,7,9]"
   ]
  },
  {
   "cell_type": "code",
   "execution_count": 25,
   "id": "fbaa97c2-3091-483f-9385-9d1db4210343",
   "metadata": {},
   "outputs": [],
   "source": [
    " T = L + L1     # Add both list value in one list "
   ]
  },
  {
   "cell_type": "code",
   "execution_count": 26,
   "id": "35f8cc38-17b1-404f-bca9-b6a4ea099f78",
   "metadata": {},
   "outputs": [
    {
     "data": {
      "text/plain": [
       "[12, 'Jack', (3+5j), 3.56, True, 36, 3, 5, 7, 9]"
      ]
     },
     "execution_count": 26,
     "metadata": {},
     "output_type": "execute_result"
    }
   ],
   "source": [
    "T"
   ]
  },
  {
   "cell_type": "code",
   "execution_count": 27,
   "id": "00fa7e73-e552-40dd-87d7-67a80b03f615",
   "metadata": {
    "tags": []
   },
   "outputs": [
    {
     "data": {
      "text/plain": [
       "[3, 5, 7, 9, 3, 5, 7, 9]"
      ]
     },
     "execution_count": 27,
     "metadata": {},
     "output_type": "execute_result"
    }
   ],
   "source": [
    "L1 * 2"
   ]
  },
  {
   "cell_type": "code",
   "execution_count": 28,
   "id": "efacf1aa-c778-4fb1-96df-41ac493585b2",
   "metadata": {
    "tags": []
   },
   "outputs": [],
   "source": [
    "#L. and Tab [we know all list we can use in our code]"
   ]
  },
  {
   "cell_type": "code",
   "execution_count": 29,
   "id": "61c013e2-dc58-4d12-b7a9-94c81682105a",
   "metadata": {},
   "outputs": [
    {
     "data": {
      "text/plain": [
       "[12, 'Jack', (3+5j), 3.56, True, 36]"
      ]
     },
     "execution_count": 29,
     "metadata": {},
     "output_type": "execute_result"
    }
   ],
   "source": [
    "L"
   ]
  },
  {
   "cell_type": "code",
   "execution_count": 30,
   "id": "362864df-3222-458e-87b4-c3a1c3ac96da",
   "metadata": {},
   "outputs": [],
   "source": [
    "L.append(\"Qureshi\")"
   ]
  },
  {
   "cell_type": "code",
   "execution_count": 31,
   "id": "2934253b-65d1-481e-ada0-7c39fa8125ba",
   "metadata": {
    "scrolled": true,
    "tags": []
   },
   "outputs": [
    {
     "data": {
      "text/plain": [
       "[12, 'Jack', (3+5j), 3.56, True, 36, 'Qureshi']"
      ]
     },
     "execution_count": 31,
     "metadata": {},
     "output_type": "execute_result"
    }
   ],
   "source": [
    "L"
   ]
  },
  {
   "cell_type": "code",
   "execution_count": 32,
   "id": "9a86c32d-650a-470c-b109-2cf69940c281",
   "metadata": {
    "scrolled": true,
    "tags": []
   },
   "outputs": [],
   "source": [
    "L.append(L1)"
   ]
  },
  {
   "cell_type": "code",
   "execution_count": 33,
   "id": "eaa1a36e-ba17-4d88-b1f3-33a9e3f50a27",
   "metadata": {},
   "outputs": [
    {
     "data": {
      "text/plain": [
       "[12, 'Jack', (3+5j), 3.56, True, 36, 'Qureshi', [3, 5, 7, 9]]"
      ]
     },
     "execution_count": 33,
     "metadata": {},
     "output_type": "execute_result"
    }
   ],
   "source": [
    "L"
   ]
  },
  {
   "cell_type": "code",
   "execution_count": 34,
   "id": "9000a927-b2cf-48bd-8f90-a70ab3bf9542",
   "metadata": {},
   "outputs": [
    {
     "data": {
      "text/plain": [
       "[3, 5, 7, 9]"
      ]
     },
     "execution_count": 34,
     "metadata": {},
     "output_type": "execute_result"
    }
   ],
   "source": [
    "L[-1]"
   ]
  },
  {
   "cell_type": "code",
   "execution_count": 35,
   "id": "ff3774dc-bc6a-4dcb-8bfb-84ec2fe03b69",
   "metadata": {},
   "outputs": [
    {
     "data": {
      "text/plain": [
       "5"
      ]
     },
     "execution_count": 35,
     "metadata": {},
     "output_type": "execute_result"
    }
   ],
   "source": [
    "L[-1][1]"
   ]
  },
  {
   "cell_type": "code",
   "execution_count": 36,
   "id": "a4cc96ce-c499-4aed-aa31-1dd6adeee7ce",
   "metadata": {},
   "outputs": [
    {
     "data": {
      "text/plain": [
       "[12, 'Jack', (3+5j), 3.56, True, 36, 'Qureshi', [3, 5, 7, 9]]"
      ]
     },
     "execution_count": 36,
     "metadata": {},
     "output_type": "execute_result"
    }
   ],
   "source": [
    "L"
   ]
  },
  {
   "cell_type": "code",
   "execution_count": 37,
   "id": "9eb15faa-0c4f-4fec-ae32-a2e0ab6b0458",
   "metadata": {},
   "outputs": [
    {
     "ename": "TypeError",
     "evalue": "'int' object is not iterable",
     "output_type": "error",
     "traceback": [
      "\u001b[0;31m---------------------------------------------------------------------------\u001b[0m",
      "\u001b[0;31mTypeError\u001b[0m                                 Traceback (most recent call last)",
      "Cell \u001b[0;32mIn[37], line 1\u001b[0m\n\u001b[0;32m----> 1\u001b[0m \u001b[43mL\u001b[49m\u001b[38;5;241;43m.\u001b[39;49m\u001b[43mextend\u001b[49m\u001b[43m(\u001b[49m\u001b[38;5;241;43m4\u001b[39;49m\u001b[43m)\u001b[49m\n",
      "\u001b[0;31mTypeError\u001b[0m: 'int' object is not iterable"
     ]
    }
   ],
   "source": [
    "L.extend(4)"
   ]
  },
  {
   "cell_type": "code",
   "execution_count": 38,
   "id": "1f43e334-f1bc-483a-aa87-340b0e372d88",
   "metadata": {},
   "outputs": [],
   "source": [
    "L.extend(\"Roy\")   # when we add 4 no.(int value) give error but when we gave string did not give error"
   ]
  },
  {
   "cell_type": "code",
   "execution_count": 39,
   "id": "3638afb5-ed50-4260-8077-79c61c7f2abf",
   "metadata": {},
   "outputs": [
    {
     "data": {
      "text/plain": [
       "[12, 'Jack', (3+5j), 3.56, True, 36, 'Qureshi', [3, 5, 7, 9], 'R', 'o', 'y']"
      ]
     },
     "execution_count": 39,
     "metadata": {},
     "output_type": "execute_result"
    }
   ],
   "source": [
    "L"
   ]
  },
  {
   "cell_type": "code",
   "execution_count": 40,
   "id": "163e08f2-f4aa-4725-aafa-bd444624e3b2",
   "metadata": {},
   "outputs": [],
   "source": [
    "L.extend([7,8,9])"
   ]
  },
  {
   "cell_type": "code",
   "execution_count": 41,
   "id": "175f1513-7ae6-40e5-a97c-faf79f132b0c",
   "metadata": {},
   "outputs": [
    {
     "data": {
      "text/plain": [
       "[12,\n",
       " 'Jack',\n",
       " (3+5j),\n",
       " 3.56,\n",
       " True,\n",
       " 36,\n",
       " 'Qureshi',\n",
       " [3, 5, 7, 9],\n",
       " 'R',\n",
       " 'o',\n",
       " 'y',\n",
       " 7,\n",
       " 8,\n",
       " 9]"
      ]
     },
     "execution_count": 41,
     "metadata": {},
     "output_type": "execute_result"
    }
   ],
   "source": [
    "L   # When we add roy, list add roy in break form 'r','o','y' but when we add nos in list it is add proper way. \n",
    "    # If we use append the y put same in list but when we use extend they unwrap list and put value line by one. Main difference in both\n",
    "    # append or extend add element at the end in list."
   ]
  },
  {
   "cell_type": "code",
   "execution_count": 63,
   "id": "37679610-a80c-41eb-bf30-4c55486184aa",
   "metadata": {},
   "outputs": [
    {
     "data": {
      "text/plain": [
       "[1000, 3, 40000000000, 7]"
      ]
     },
     "execution_count": 63,
     "metadata": {},
     "output_type": "execute_result"
    }
   ],
   "source": [
    "L1"
   ]
  },
  {
   "cell_type": "code",
   "execution_count": 64,
   "id": "da1106e1-6427-4a33-a998-c6cdc4d689a1",
   "metadata": {},
   "outputs": [],
   "source": [
    "L1.insert(1,40000000000) # Insert add element where you want "
   ]
  },
  {
   "cell_type": "code",
   "execution_count": 65,
   "id": "4daf4a76-f75c-46a9-9b30-e702d9f41e10",
   "metadata": {},
   "outputs": [
    {
     "data": {
      "text/plain": [
       "[1000, 40000000000, 3, 40000000000, 7]"
      ]
     },
     "execution_count": 65,
     "metadata": {},
     "output_type": "execute_result"
    }
   ],
   "source": [
    "L1"
   ]
  },
  {
   "cell_type": "code",
   "execution_count": 66,
   "id": "93348d36-a790-4b8b-b111-42e482e7020f",
   "metadata": {},
   "outputs": [],
   "source": [
    "L1.insert(3, [123,456,789])"
   ]
  },
  {
   "cell_type": "code",
   "execution_count": 67,
   "id": "78ba7e1b-45d2-4e21-9c6f-bb577fdf62af",
   "metadata": {},
   "outputs": [
    {
     "data": {
      "text/plain": [
       "[1000, 40000000000, 3, [123, 456, 789], 40000000000, 7]"
      ]
     },
     "execution_count": 67,
     "metadata": {},
     "output_type": "execute_result"
    }
   ],
   "source": [
    "L1"
   ]
  },
  {
   "cell_type": "code",
   "execution_count": 68,
   "id": "53ada2f9-57d6-4e75-b36e-36d54a23ae32",
   "metadata": {},
   "outputs": [],
   "source": [
    "L1.insert(-1, 55555555555) # insert put value where you give. In line we give -1 put value insert asign value and shift 9 to last."
   ]
  },
  {
   "cell_type": "code",
   "execution_count": 69,
   "id": "9134e62a-369a-4b44-9d6f-b31b7a43bcaf",
   "metadata": {},
   "outputs": [
    {
     "data": {
      "text/plain": [
       "[1000, 40000000000, 3, [123, 456, 789], 40000000000, 55555555555, 7]"
      ]
     },
     "execution_count": 69,
     "metadata": {},
     "output_type": "execute_result"
    }
   ],
   "source": [
    "L1"
   ]
  },
  {
   "cell_type": "code",
   "execution_count": 70,
   "id": "737cc6a1-ef1e-4c54-883c-51106fabe8b6",
   "metadata": {},
   "outputs": [],
   "source": [
    " L1.insert(0, 1000 )  # Shift all value and put ourself in 0 position"
   ]
  },
  {
   "cell_type": "code",
   "execution_count": 71,
   "id": "294d8c2b-8cac-4708-b707-1810e67d0d2e",
   "metadata": {},
   "outputs": [
    {
     "data": {
      "text/plain": [
       "[1000, 1000, 40000000000, 3, [123, 456, 789], 40000000000, 55555555555, 7]"
      ]
     },
     "execution_count": 71,
     "metadata": {},
     "output_type": "execute_result"
    }
   ],
   "source": [
    "L1"
   ]
  },
  {
   "cell_type": "code",
   "execution_count": 72,
   "id": "ac9c987e-4ce7-4f4b-a900-9b46a78cb6ba",
   "metadata": {},
   "outputs": [
    {
     "data": {
      "text/plain": [
       "7"
      ]
     },
     "execution_count": 72,
     "metadata": {},
     "output_type": "execute_result"
    }
   ],
   "source": [
    "L1.pop()   # pop delete object in list. By default pop set at -1 "
   ]
  },
  {
   "cell_type": "code",
   "execution_count": 73,
   "id": "b12904cc-5841-454b-8969-7f9a259fdb04",
   "metadata": {},
   "outputs": [
    {
     "data": {
      "text/plain": [
       "[1000, 1000, 40000000000, 3, [123, 456, 789], 40000000000, 55555555555]"
      ]
     },
     "execution_count": 73,
     "metadata": {},
     "output_type": "execute_result"
    }
   ],
   "source": [
    "L1"
   ]
  },
  {
   "cell_type": "code",
   "execution_count": 74,
   "id": "6c68cbc3-8a27-4e23-b42b-ed5e81b0b775",
   "metadata": {},
   "outputs": [
    {
     "data": {
      "text/plain": [
       "55555555555"
      ]
     },
     "execution_count": 74,
     "metadata": {},
     "output_type": "execute_result"
    }
   ],
   "source": [
    "L1.pop()"
   ]
  },
  {
   "cell_type": "code",
   "execution_count": 75,
   "id": "1fadba25-3d30-4974-a00b-0c6edf0e1a81",
   "metadata": {},
   "outputs": [
    {
     "data": {
      "text/plain": [
       "[1000, 1000, 40000000000, 3, [123, 456, 789], 40000000000]"
      ]
     },
     "execution_count": 75,
     "metadata": {},
     "output_type": "execute_result"
    }
   ],
   "source": [
    "L1"
   ]
  },
  {
   "cell_type": "code",
   "execution_count": 76,
   "id": "cba92dcf-d151-4910-b127-8dd98e6dca8c",
   "metadata": {},
   "outputs": [
    {
     "data": {
      "text/plain": [
       "40000000000"
      ]
     },
     "execution_count": 76,
     "metadata": {},
     "output_type": "execute_result"
    }
   ],
   "source": [
    "L1.pop(5)  # Delete 4th position value"
   ]
  },
  {
   "cell_type": "code",
   "execution_count": 77,
   "id": "b56f540d-72e3-4460-8940-1330229af550",
   "metadata": {},
   "outputs": [
    {
     "data": {
      "text/plain": [
       "[1000, 1000, 40000000000, 3, [123, 456, 789]]"
      ]
     },
     "execution_count": 77,
     "metadata": {},
     "output_type": "execute_result"
    }
   ],
   "source": [
    "L1"
   ]
  },
  {
   "cell_type": "code",
   "execution_count": 57,
   "id": "bf883f1c-c472-4cfa-97fe-7f4e41ee8863",
   "metadata": {},
   "outputs": [],
   "source": [
    "L1.remove(5) # pop delete throw index value but remove delete value you put same value in this list"
   ]
  },
  {
   "cell_type": "code",
   "execution_count": 58,
   "id": "a041709f-3fbe-47e5-84f4-59ed3c6f8d43",
   "metadata": {},
   "outputs": [
    {
     "data": {
      "text/plain": [
       "[1000, 3, 40000000000, 7]"
      ]
     },
     "execution_count": 58,
     "metadata": {},
     "output_type": "execute_result"
    }
   ],
   "source": [
    "L1"
   ]
  },
  {
   "cell_type": "code",
   "execution_count": 78,
   "id": "d20c9e02-a7e3-4830-8529-b6dd825e26a2",
   "metadata": {},
   "outputs": [],
   "source": [
    "L1[4].remove(456)"
   ]
  },
  {
   "cell_type": "code",
   "execution_count": 85,
   "id": "347337de-e4b2-4bb9-a207-3256a835afab",
   "metadata": {},
   "outputs": [
    {
     "data": {
      "text/plain": [
       "[1000, 1000, 40000000000, 3, [123, 789]]"
      ]
     },
     "execution_count": 85,
     "metadata": {},
     "output_type": "execute_result"
    }
   ],
   "source": [
    "L1"
   ]
  },
  {
   "cell_type": "code",
   "execution_count": 86,
   "id": "3553feea-c40e-432c-8ce8-f432a197a43e",
   "metadata": {},
   "outputs": [],
   "source": [
    "L1.reverse() # Reverse is permanent revserse. revserse() work like L1 = L1[::-1] and is L1[;;-1] temperory reverse"
   ]
  },
  {
   "cell_type": "code",
   "execution_count": 87,
   "id": "6a253f59-42f8-462f-a826-cb716be836c2",
   "metadata": {},
   "outputs": [
    {
     "data": {
      "text/plain": [
       "[[123, 789], 3, 40000000000, 1000, 1000]"
      ]
     },
     "execution_count": 87,
     "metadata": {},
     "output_type": "execute_result"
    }
   ],
   "source": [
    "L1"
   ]
  },
  {
   "cell_type": "code",
   "execution_count": 88,
   "id": "8e5d76b5-c109-424e-800c-e1e14ff06df2",
   "metadata": {},
   "outputs": [
    {
     "ename": "TypeError",
     "evalue": "'<' not supported between instances of 'int' and 'list'",
     "output_type": "error",
     "traceback": [
      "\u001b[0;31m---------------------------------------------------------------------------\u001b[0m",
      "\u001b[0;31mTypeError\u001b[0m                                 Traceback (most recent call last)",
      "Cell \u001b[0;32mIn[88], line 1\u001b[0m\n\u001b[0;32m----> 1\u001b[0m \u001b[43mL1\u001b[49m\u001b[38;5;241;43m.\u001b[39;49m\u001b[43msort\u001b[49m\u001b[43m(\u001b[49m\u001b[43m)\u001b[49m\n",
      "\u001b[0;31mTypeError\u001b[0m: '<' not supported between instances of 'int' and 'list'"
     ]
    }
   ],
   "source": [
    "L1.sort()"
   ]
  },
  {
   "cell_type": "code",
   "execution_count": 89,
   "id": "fd1775b4-6d66-406f-bf31-8ebb7eb96a3a",
   "metadata": {},
   "outputs": [],
   "source": [
    "l2 = [266,61,6,616,29,183,545]"
   ]
  },
  {
   "cell_type": "code",
   "execution_count": 91,
   "id": "4587ddb6-6912-4c56-9bf8-60e2c7bc8bd1",
   "metadata": {},
   "outputs": [],
   "source": [
    "l2.sort()"
   ]
  },
  {
   "cell_type": "code",
   "execution_count": 92,
   "id": "f00eb3a0-88b8-4d82-a679-5cb7993a5ec7",
   "metadata": {},
   "outputs": [
    {
     "data": {
      "text/plain": [
       "[6, 29, 61, 183, 266, 545, 616]"
      ]
     },
     "execution_count": 92,
     "metadata": {},
     "output_type": "execute_result"
    }
   ],
   "source": [
    "l2"
   ]
  },
  {
   "cell_type": "code",
   "execution_count": 93,
   "id": "41cbe3a9-1338-44cd-a7a5-e517d48609ee",
   "metadata": {},
   "outputs": [],
   "source": [
    "l3 = [847, \"GVV\", 'RB',84]"
   ]
  },
  {
   "cell_type": "code",
   "execution_count": 94,
   "id": "7f9f1f70-dd3c-4694-b5d1-70734bf42a61",
   "metadata": {},
   "outputs": [
    {
     "ename": "TypeError",
     "evalue": "'<' not supported between instances of 'str' and 'int'",
     "output_type": "error",
     "traceback": [
      "\u001b[0;31m---------------------------------------------------------------------------\u001b[0m",
      "\u001b[0;31mTypeError\u001b[0m                                 Traceback (most recent call last)",
      "Cell \u001b[0;32mIn[94], line 1\u001b[0m\n\u001b[0;32m----> 1\u001b[0m \u001b[43ml3\u001b[49m\u001b[38;5;241;43m.\u001b[39;49m\u001b[43msort\u001b[49m\u001b[43m(\u001b[49m\u001b[43m)\u001b[49m\n",
      "\u001b[0;31mTypeError\u001b[0m: '<' not supported between instances of 'str' and 'int'"
     ]
    }
   ],
   "source": [
    "l3.sort()"
   ]
  },
  {
   "cell_type": "code",
   "execution_count": 95,
   "id": "296b8aa4-9e2e-4614-a56b-51770cbb388c",
   "metadata": {},
   "outputs": [],
   "source": [
    "l4 = [\"Chintu\",\"Tinku\",\"Pintu\",\"Tillu\"]"
   ]
  },
  {
   "cell_type": "code",
   "execution_count": 96,
   "id": "c81d4c25-965d-4b28-9133-be21ff8e1cb1",
   "metadata": {},
   "outputs": [],
   "source": [
    "l4.sort() # sort by alphbet.sort now reverse=False"
   ]
  },
  {
   "cell_type": "code",
   "execution_count": 97,
   "id": "037e71ca-5e17-4a6e-a8fb-0003a1a39824",
   "metadata": {},
   "outputs": [
    {
     "data": {
      "text/plain": [
       "['Chintu', 'Pintu', 'Tillu', 'Tinku']"
      ]
     },
     "execution_count": 97,
     "metadata": {},
     "output_type": "execute_result"
    }
   ],
   "source": [
    "l4"
   ]
  },
  {
   "cell_type": "code",
   "execution_count": 98,
   "id": "477444b5-e854-47ec-9018-f8a8317fc451",
   "metadata": {},
   "outputs": [],
   "source": [
    "l4.sort(reverse=True) # reverse sorting"
   ]
  },
  {
   "cell_type": "code",
   "execution_count": 99,
   "id": "0a00afd7-ad3d-4d91-96b8-4bb650d04168",
   "metadata": {},
   "outputs": [
    {
     "data": {
      "text/plain": [
       "['Tinku', 'Tillu', 'Pintu', 'Chintu']"
      ]
     },
     "execution_count": 99,
     "metadata": {},
     "output_type": "execute_result"
    }
   ],
   "source": [
    "l4"
   ]
  },
  {
   "cell_type": "code",
   "execution_count": 102,
   "id": "7140fedc-c802-4f2c-8a13-d4502c1a4d38",
   "metadata": {},
   "outputs": [
    {
     "data": {
      "text/plain": [
       "0"
      ]
     },
     "execution_count": 102,
     "metadata": {},
     "output_type": "execute_result"
    }
   ],
   "source": [
    "l4.index(\"Tinku\")"
   ]
  },
  {
   "cell_type": "code",
   "execution_count": 103,
   "id": "16aaf545-0501-4c12-9d74-5e239b850318",
   "metadata": {},
   "outputs": [
    {
     "data": {
      "text/plain": [
       "1"
      ]
     },
     "execution_count": 103,
     "metadata": {},
     "output_type": "execute_result"
    }
   ],
   "source": [
    "l4.count(\"Tillu\")"
   ]
  },
  {
   "cell_type": "code",
   "execution_count": 104,
   "id": "57f2cae3-5c69-4973-8c12-8b4f1d02b4ce",
   "metadata": {},
   "outputs": [],
   "source": [
    "s = 'vicky'"
   ]
  },
  {
   "cell_type": "code",
   "execution_count": 105,
   "id": "184a5769-f91c-4780-ac74-dff8e46f8024",
   "metadata": {},
   "outputs": [],
   "source": [
    "l5 = [3,1,85,19]"
   ]
  },
  {
   "cell_type": "code",
   "execution_count": 106,
   "id": "999f9649-4e65-4325-a022-0767fca6c7e1",
   "metadata": {},
   "outputs": [
    {
     "ename": "TypeError",
     "evalue": "'str' object does not support item assignment",
     "output_type": "error",
     "traceback": [
      "\u001b[0;31m---------------------------------------------------------------------------\u001b[0m",
      "\u001b[0;31mTypeError\u001b[0m                                 Traceback (most recent call last)",
      "Cell \u001b[0;32mIn[106], line 1\u001b[0m\n\u001b[0;32m----> 1\u001b[0m \u001b[43ms\u001b[49m\u001b[43m[\u001b[49m\u001b[38;5;241;43m0\u001b[39;49m\u001b[43m]\u001b[49m \u001b[38;5;241m=\u001b[39m \u001b[38;5;124m'\u001b[39m\u001b[38;5;124ma\u001b[39m\u001b[38;5;124m'\u001b[39m\n",
      "\u001b[0;31mTypeError\u001b[0m: 'str' object does not support item assignment"
     ]
    }
   ],
   "source": [
    "s[0] = 'a'"
   ]
  },
  {
   "cell_type": "code",
   "execution_count": 107,
   "id": "0f0990e0-e8e0-4120-ae61-cd9f5198f3d0",
   "metadata": {},
   "outputs": [],
   "source": [
    "l5[0] = 30 # only int not str value"
   ]
  },
  {
   "cell_type": "code",
   "execution_count": 108,
   "id": "e1e22ebc-9f39-4f06-9d5e-006511ba62e8",
   "metadata": {},
   "outputs": [
    {
     "data": {
      "text/plain": [
       "[30, 1, 85, 19]"
      ]
     },
     "execution_count": 108,
     "metadata": {},
     "output_type": "execute_result"
    }
   ],
   "source": [
    "l5"
   ]
  },
  {
   "cell_type": "code",
   "execution_count": 112,
   "id": "44b4d41c-a1f2-4084-8f13-92f980d5b2d2",
   "metadata": {},
   "outputs": [
    {
     "data": {
      "text/plain": [
       "'bicky'"
      ]
     },
     "execution_count": 112,
     "metadata": {},
     "output_type": "execute_result"
    }
   ],
   "source": [
    "s.replace('v', 'b')"
   ]
  },
  {
   "cell_type": "code",
   "execution_count": 119,
   "id": "0c976cd1-bcbf-4363-b1ce-c9ab15dd70a0",
   "metadata": {},
   "outputs": [
    {
     "data": {
      "text/plain": [
       "'vicky'"
      ]
     },
     "execution_count": 119,
     "metadata": {},
     "output_type": "execute_result"
    }
   ],
   "source": [
    "s # not permanent replace"
   ]
  },
  {
   "cell_type": "code",
   "execution_count": null,
   "id": "74fba4c0-fc7b-437a-9b7c-91023e432583",
   "metadata": {},
   "outputs": [],
   "source": []
  },
  {
   "cell_type": "code",
   "execution_count": 120,
   "id": "ca121afd-0338-489e-8627-aa7694f9163d",
   "metadata": {},
   "outputs": [],
   "source": [
    "# Tuble "
   ]
  },
  {
   "cell_type": "code",
   "execution_count": 122,
   "id": "698c9c7c-cd17-4c2c-a627-2ccfa2f113c4",
   "metadata": {},
   "outputs": [],
   "source": [
    "t = (6,8,102,\"THF\",98,\"asds\",[9,120,44,25],3j+55, True) # Tuble also like a list"
   ]
  },
  {
   "cell_type": "code",
   "execution_count": 123,
   "id": "4ef55915-41b2-4bde-94ed-6a5c81400d3f",
   "metadata": {},
   "outputs": [
    {
     "data": {
      "text/plain": [
       "(6, 8, 102, 'THF', 98, 'asds', [9, 120, 44, 25], (55+3j), True)"
      ]
     },
     "execution_count": 123,
     "metadata": {},
     "output_type": "execute_result"
    }
   ],
   "source": [
    "t"
   ]
  },
  {
   "cell_type": "code",
   "execution_count": 124,
   "id": "9720d7b8-ffe7-4137-98ff-dcfbad35970c",
   "metadata": {},
   "outputs": [
    {
     "data": {
      "text/plain": [
       "tuple"
      ]
     },
     "execution_count": 124,
     "metadata": {},
     "output_type": "execute_result"
    }
   ],
   "source": [
    "type(t)"
   ]
  },
  {
   "cell_type": "code",
   "execution_count": 125,
   "id": "ef348e88-ca8a-4aa0-9e60-7489b37fad85",
   "metadata": {},
   "outputs": [
    {
     "data": {
      "text/plain": [
       "9"
      ]
     },
     "execution_count": 125,
     "metadata": {},
     "output_type": "execute_result"
    }
   ],
   "source": [
    "len(t)"
   ]
  },
  {
   "cell_type": "code",
   "execution_count": 126,
   "id": "d3460894-efa6-4625-9447-829e4663c1fb",
   "metadata": {},
   "outputs": [
    {
     "data": {
      "text/plain": [
       "6"
      ]
     },
     "execution_count": 126,
     "metadata": {},
     "output_type": "execute_result"
    }
   ],
   "source": [
    "t[0]"
   ]
  },
  {
   "cell_type": "code",
   "execution_count": 127,
   "id": "4a0dc985-429e-41cc-bc09-2548bb9d1b80",
   "metadata": {},
   "outputs": [
    {
     "data": {
      "text/plain": [
       "True"
      ]
     },
     "execution_count": 127,
     "metadata": {},
     "output_type": "execute_result"
    }
   ],
   "source": [
    "t[-1]"
   ]
  },
  {
   "cell_type": "code",
   "execution_count": 128,
   "id": "73a8e3bf-8fa1-4e40-843e-07038bdbaf38",
   "metadata": {},
   "outputs": [
    {
     "data": {
      "text/plain": [
       "(True, (55+3j), [9, 120, 44, 25], 'asds', 98, 'THF', 102, 8, 6)"
      ]
     },
     "execution_count": 128,
     "metadata": {},
     "output_type": "execute_result"
    }
   ],
   "source": [
    "t[::-1]"
   ]
  },
  {
   "cell_type": "code",
   "execution_count": 129,
   "id": "ad167db9-44b4-411a-89d7-1b933c5db2bb",
   "metadata": {},
   "outputs": [
    {
     "data": {
      "text/plain": [
       "['Tinku', 'Tillu', 'Pintu', 'Chintu']"
      ]
     },
     "execution_count": 129,
     "metadata": {},
     "output_type": "execute_result"
    }
   ],
   "source": [
    "l4"
   ]
  },
  {
   "cell_type": "code",
   "execution_count": 130,
   "id": "8378c410-a6e6-488e-a163-574fa1bfc8b9",
   "metadata": {},
   "outputs": [],
   "source": [
    "l4[0] = 220"
   ]
  },
  {
   "cell_type": "code",
   "execution_count": 131,
   "id": "2b00b93a-e462-4751-8cf6-3341f92e6ab5",
   "metadata": {},
   "outputs": [
    {
     "data": {
      "text/plain": [
       "[220, 'Tillu', 'Pintu', 'Chintu']"
      ]
     },
     "execution_count": 131,
     "metadata": {},
     "output_type": "execute_result"
    }
   ],
   "source": [
    "l4"
   ]
  },
  {
   "cell_type": "code",
   "execution_count": 132,
   "id": "c5ead738-610b-4808-a2c9-a58869e03bc4",
   "metadata": {},
   "outputs": [
    {
     "data": {
      "text/plain": [
       "(6, 8, 102, 'THF', 98, 'asds', [9, 120, 44, 25], (55+3j), True)"
      ]
     },
     "execution_count": 132,
     "metadata": {},
     "output_type": "execute_result"
    }
   ],
   "source": [
    "t"
   ]
  },
  {
   "cell_type": "code",
   "execution_count": 133,
   "id": "bb535e0f-cb4e-48e9-b3a5-892b41e8c8f0",
   "metadata": {},
   "outputs": [
    {
     "ename": "TypeError",
     "evalue": "'tuple' object does not support item assignment",
     "output_type": "error",
     "traceback": [
      "\u001b[0;31m---------------------------------------------------------------------------\u001b[0m",
      "\u001b[0;31mTypeError\u001b[0m                                 Traceback (most recent call last)",
      "Cell \u001b[0;32mIn[133], line 1\u001b[0m\n\u001b[0;32m----> 1\u001b[0m \u001b[43mt\u001b[49m\u001b[43m[\u001b[49m\u001b[38;5;241;43m0\u001b[39;49m\u001b[43m]\u001b[49m \u001b[38;5;241m=\u001b[39m \u001b[38;5;124m'\u001b[39m\u001b[38;5;124mRTE\u001b[39m\u001b[38;5;124m'\u001b[39m\n",
      "\u001b[0;31mTypeError\u001b[0m: 'tuple' object does not support item assignment"
     ]
    }
   ],
   "source": [
    "t[0] = 'RTE'"
   ]
  },
  {
   "cell_type": "code",
   "execution_count": 134,
   "id": "724c781c-a145-4651-bddf-e01690f35614",
   "metadata": {},
   "outputs": [
    {
     "data": {
      "text/plain": [
       "1"
      ]
     },
     "execution_count": 134,
     "metadata": {},
     "output_type": "execute_result"
    }
   ],
   "source": [
    "t.count(102)"
   ]
  },
  {
   "cell_type": "code",
   "execution_count": 136,
   "id": "fd7924a9-fdd4-46cb-95dd-28a5fd8010a6",
   "metadata": {},
   "outputs": [
    {
     "data": {
      "text/plain": [
       "2"
      ]
     },
     "execution_count": 136,
     "metadata": {},
     "output_type": "execute_result"
    }
   ],
   "source": [
    "t.index(102) # in tuple only two function we use count and index"
   ]
  },
  {
   "cell_type": "code",
   "execution_count": null,
   "id": "335682b7-bf62-4f67-ad0d-9da671b26b04",
   "metadata": {},
   "outputs": [],
   "source": []
  },
  {
   "cell_type": "code",
   "execution_count": 137,
   "id": "0ff7725b-0087-4bfa-89d7-1a8aca116ab2",
   "metadata": {},
   "outputs": [],
   "source": [
    "# Set"
   ]
  },
  {
   "cell_type": "code",
   "execution_count": 138,
   "id": "5d8dbe79-a713-45aa-b477-f490fc12b7b6",
   "metadata": {},
   "outputs": [],
   "source": [
    "s1 = {}"
   ]
  },
  {
   "cell_type": "code",
   "execution_count": 140,
   "id": "c825e784-ee5e-4a0e-81e0-f79fe2db5673",
   "metadata": {},
   "outputs": [
    {
     "data": {
      "text/plain": [
       "dict"
      ]
     },
     "execution_count": 140,
     "metadata": {},
     "output_type": "execute_result"
    }
   ],
   "source": [
    "type(s1) # when we use blank set it's show dictornary"
   ]
  },
  {
   "cell_type": "code",
   "execution_count": 141,
   "id": "eee1546f-c7ca-41c0-bd87-92076920f5e3",
   "metadata": {},
   "outputs": [],
   "source": [
    "s2 = {16,45,15,15,80}"
   ]
  },
  {
   "cell_type": "code",
   "execution_count": 142,
   "id": "0870a7fd-7d57-404a-85b2-385708fb453a",
   "metadata": {},
   "outputs": [
    {
     "data": {
      "text/plain": [
       "set"
      ]
     },
     "execution_count": 142,
     "metadata": {},
     "output_type": "execute_result"
    }
   ],
   "source": [
    "type(s2)"
   ]
  },
  {
   "cell_type": "code",
   "execution_count": 152,
   "id": "5072e593-e761-42f2-b60a-907a3c3fcc23",
   "metadata": {},
   "outputs": [],
   "source": [
    "s3 = {61616,841,56310,3+45j,\"TPL\",(421,91,24)}"
   ]
  },
  {
   "cell_type": "code",
   "execution_count": 153,
   "id": "01c9b465-115c-4b13-8729-4c1aa2440cac",
   "metadata": {},
   "outputs": [
    {
     "data": {
      "text/plain": [
       "{(3+45j), (421, 91, 24), 56310, 61616, 841, 'TPL'}"
      ]
     },
     "execution_count": 153,
     "metadata": {},
     "output_type": "execute_result"
    }
   ],
   "source": [
    "s3"
   ]
  },
  {
   "cell_type": "code",
   "execution_count": 154,
   "id": "d70b8a62-ac6c-4908-a194-7ab149129a15",
   "metadata": {},
   "outputs": [],
   "source": [
    "s4 = {3,1,1,2,4,1,2,3,4,6,12,881,\"TT\",\"TT\",\"tt\"}"
   ]
  },
  {
   "cell_type": "code",
   "execution_count": 155,
   "id": "d6c52283-1ab1-45d5-9ed1-1b251414e820",
   "metadata": {},
   "outputs": [
    {
     "data": {
      "text/plain": [
       "{1, 12, 2, 3, 4, 6, 881, 'TT', 'tt'}"
      ]
     },
     "execution_count": 155,
     "metadata": {},
     "output_type": "execute_result"
    }
   ],
   "source": [
    "s4 # set is unique object give, we change find unique data in largedataset"
   ]
  },
  {
   "cell_type": "code",
   "execution_count": 156,
   "id": "993fb9f5-2179-45eb-b054-84db006ff5a6",
   "metadata": {},
   "outputs": [],
   "source": [
    "l6 = {1,2,4,6,1,3,5,4,121,}"
   ]
  },
  {
   "cell_type": "code",
   "execution_count": 158,
   "id": "a3531420-dc8e-43ab-bbb9-ed5be73eb15a",
   "metadata": {},
   "outputs": [],
   "source": [
    "l6 = list(set(l6)) # change list to set"
   ]
  },
  {
   "cell_type": "code",
   "execution_count": 159,
   "id": "dc73c4f9-7f6f-4a00-bce6-39ae918d2849",
   "metadata": {},
   "outputs": [
    {
     "data": {
      "text/plain": [
       "[1, 2, 3, 4, 5, 6, 121]"
      ]
     },
     "execution_count": 159,
     "metadata": {},
     "output_type": "execute_result"
    }
   ],
   "source": [
    "l6"
   ]
  },
  {
   "cell_type": "code",
   "execution_count": 160,
   "id": "34af55c9-4fc6-4f57-b745-5c8946c17930",
   "metadata": {},
   "outputs": [
    {
     "ename": "TypeError",
     "evalue": "'set' object is not subscriptable",
     "output_type": "error",
     "traceback": [
      "\u001b[0;31m---------------------------------------------------------------------------\u001b[0m",
      "\u001b[0;31mTypeError\u001b[0m                                 Traceback (most recent call last)",
      "Cell \u001b[0;32mIn[160], line 1\u001b[0m\n\u001b[0;32m----> 1\u001b[0m \u001b[43ms4\u001b[49m\u001b[43m[\u001b[49m\u001b[38;5;241;43m0\u001b[39;49m\u001b[43m]\u001b[49m\n",
      "\u001b[0;31mTypeError\u001b[0m: 'set' object is not subscriptable"
     ]
    }
   ],
   "source": [
    "s4[0] # we can't do this in set because set not doing indexing object. set doing hashing"
   ]
  },
  {
   "cell_type": "code",
   "execution_count": 161,
   "id": "9821157c-7312-4e18-8f7c-c626a79edca0",
   "metadata": {},
   "outputs": [
    {
     "ename": "TypeError",
     "evalue": "'set' object is not subscriptable",
     "output_type": "error",
     "traceback": [
      "\u001b[0;31m---------------------------------------------------------------------------\u001b[0m",
      "\u001b[0;31mTypeError\u001b[0m                                 Traceback (most recent call last)",
      "Cell \u001b[0;32mIn[161], line 1\u001b[0m\n\u001b[0;32m----> 1\u001b[0m \u001b[43ms4\u001b[49m\u001b[43m[\u001b[49m\u001b[43m:\u001b[49m\u001b[43m:\u001b[49m\u001b[38;5;241;43m-\u001b[39;49m\u001b[38;5;241;43m1\u001b[39;49m\u001b[43m]\u001b[49m\n",
      "\u001b[0;31mTypeError\u001b[0m: 'set' object is not subscriptable"
     ]
    }
   ],
   "source": [
    " s4[::-1]"
   ]
  },
  {
   "cell_type": "code",
   "execution_count": 162,
   "id": "f862659d-19d8-44a6-aa53-bb59fa7ec780",
   "metadata": {},
   "outputs": [],
   "source": [
    "s4.add(16) # 16 was not in set"
   ]
  },
  {
   "cell_type": "code",
   "execution_count": 163,
   "id": "98ab5a19-5276-41db-8376-3f1d93f1dda3",
   "metadata": {},
   "outputs": [
    {
     "data": {
      "text/plain": [
       "{1, 12, 16, 2, 3, 4, 6, 881, 'TT', 'tt'}"
      ]
     },
     "execution_count": 163,
     "metadata": {},
     "output_type": "execute_result"
    }
   ],
   "source": [
    "s4"
   ]
  },
  {
   "cell_type": "code",
   "execution_count": 164,
   "id": "b89b34d4-01f3-4b50-a9d6-def0f3057d06",
   "metadata": {},
   "outputs": [],
   "source": [
    "s4.add(12) # 12 not add because 12 already in set"
   ]
  },
  {
   "cell_type": "code",
   "execution_count": 165,
   "id": "66f2c53b-d53b-45ba-bc16-4bf3643d2075",
   "metadata": {},
   "outputs": [
    {
     "data": {
      "text/plain": [
       "{1, 12, 16, 2, 3, 4, 6, 881, 'TT', 'tt'}"
      ]
     },
     "execution_count": 165,
     "metadata": {},
     "output_type": "execute_result"
    }
   ],
   "source": [
    "s4"
   ]
  },
  {
   "cell_type": "code",
   "execution_count": null,
   "id": "25d25b88-0eb3-401b-875a-8394e8173847",
   "metadata": {},
   "outputs": [],
   "source": []
  }
 ],
 "metadata": {
  "kernelspec": {
   "display_name": "Python 3 (ipykernel)",
   "language": "python",
   "name": "python3"
  },
  "language_info": {
   "codemirror_mode": {
    "name": "ipython",
    "version": 3
   },
   "file_extension": ".py",
   "mimetype": "text/x-python",
   "name": "python",
   "nbconvert_exporter": "python",
   "pygments_lexer": "ipython3",
   "version": "3.10.8"
  },
  "toc-autonumbering": true,
  "toc-showcode": false,
  "toc-showmarkdowntxt": true,
  "toc-showtags": false
 },
 "nbformat": 4,
 "nbformat_minor": 5
}
