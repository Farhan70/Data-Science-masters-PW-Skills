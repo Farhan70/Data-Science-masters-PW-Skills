{
 "cells": [
  {
   "cell_type": "code",
   "execution_count": 1,
   "id": "4f373828-37a0-452e-b981-56ece3bec8b9",
   "metadata": {},
   "outputs": [
    {
     "data": {
      "text/plain": [
       "2"
      ]
     },
     "execution_count": 1,
     "metadata": {},
     "output_type": "execute_result"
    }
   ],
   "source": [
    "1+1  # Shift+Enter for run"
   ]
  },
  {
   "cell_type": "code",
   "execution_count": 2,
   "id": "a9431b7b-fbd7-4600-8fa2-1815b3d897c1",
   "metadata": {},
   "outputs": [
    {
     "data": {
      "text/plain": [
       "-3"
      ]
     },
     "execution_count": 2,
     "metadata": {},
     "output_type": "execute_result"
    }
   ],
   "source": [
    "2-5 #  SHift+Ctrl  for particular cell "
   ]
  },
  {
   "cell_type": "code",
   "execution_count": 3,
   "id": "0c0eeacb-8b89-4497-8fe5-e335a823e42b",
   "metadata": {},
   "outputs": [
    {
     "data": {
      "text/plain": [
       "18"
      ]
     },
     "execution_count": 3,
     "metadata": {},
     "output_type": "execute_result"
    }
   ],
   "source": [
    "3*6"
   ]
  },
  {
   "cell_type": "code",
   "execution_count": 60,
   "id": "a2489036-a784-4233-acb9-fe83f814960a",
   "metadata": {},
   "outputs": [
    {
     "data": {
      "text/plain": [
       "0.4"
      ]
     },
     "execution_count": 60,
     "metadata": {},
     "output_type": "execute_result"
    }
   ],
   "source": [
    "2/5"
   ]
  },
  {
   "cell_type": "code",
   "execution_count": 61,
   "id": "f58838c8-cf69-4c2c-b826-cbf5c7b180e7",
   "metadata": {},
   "outputs": [],
   "source": [
    "a = 10"
   ]
  },
  {
   "cell_type": "code",
   "execution_count": 62,
   "id": "656f0072-2953-437d-81cf-7d55458d07e5",
   "metadata": {},
   "outputs": [
    {
     "data": {
      "text/plain": [
       "10"
      ]
     },
     "execution_count": 62,
     "metadata": {},
     "output_type": "execute_result"
    }
   ],
   "source": [
    "a "
   ]
  },
  {
   "cell_type": "code",
   "execution_count": 63,
   "id": "f2d15ed4-05fb-4e4d-ae17-398126be1c84",
   "metadata": {},
   "outputs": [],
   "source": [
    "Chintu = 20"
   ]
  },
  {
   "cell_type": "code",
   "execution_count": 64,
   "id": "d51bbe25-ce4d-402f-9fde-7bdf692b7927",
   "metadata": {},
   "outputs": [
    {
     "data": {
      "text/plain": [
       "20"
      ]
     },
     "execution_count": 64,
     "metadata": {},
     "output_type": "execute_result"
    }
   ],
   "source": [
    "Chintu "
   ]
  },
  {
   "cell_type": "code",
   "execution_count": 65,
   "id": "ca1b1467-1d16-4a87-b25a-5778c03872af",
   "metadata": {},
   "outputs": [
    {
     "data": {
      "text/plain": [
       "30"
      ]
     },
     "execution_count": 65,
     "metadata": {},
     "output_type": "execute_result"
    }
   ],
   "source": [
    "a+Chintu"
   ]
  },
  {
   "cell_type": "code",
   "execution_count": 66,
   "id": "a26dd231-89a3-467d-9a5c-0ba404e94112",
   "metadata": {},
   "outputs": [],
   "source": [
    "b = 2.201"
   ]
  },
  {
   "cell_type": "code",
   "execution_count": 67,
   "id": "98c7b3d4-1c5d-4054-b512-8de2af043091",
   "metadata": {},
   "outputs": [],
   "source": [
    "c = 0.2215314"
   ]
  },
  {
   "cell_type": "code",
   "execution_count": 68,
   "id": "86f636a4-4de4-44f6-93c5-93fcd3006e27",
   "metadata": {},
   "outputs": [
    {
     "data": {
      "text/plain": [
       "int"
      ]
     },
     "execution_count": 68,
     "metadata": {},
     "output_type": "execute_result"
    }
   ],
   "source": [
    "type(a)"
   ]
  },
  {
   "cell_type": "code",
   "execution_count": 69,
   "id": "a7e85693-5d5c-42e9-b17a-2cccb632de19",
   "metadata": {},
   "outputs": [
    {
     "data": {
      "text/plain": [
       "int"
      ]
     },
     "execution_count": 69,
     "metadata": {},
     "output_type": "execute_result"
    }
   ],
   "source": [
    "type(Chintu)"
   ]
  },
  {
   "cell_type": "code",
   "execution_count": 70,
   "id": "4c712874-0fee-411a-b5b1-e85c14a2d704",
   "metadata": {},
   "outputs": [
    {
     "data": {
      "text/plain": [
       "float"
      ]
     },
     "execution_count": 70,
     "metadata": {},
     "output_type": "execute_result"
    }
   ],
   "source": [
    "type(b)"
   ]
  },
  {
   "cell_type": "code",
   "execution_count": 71,
   "id": "fefcee3d-0f2b-4e6e-b058-872685711013",
   "metadata": {},
   "outputs": [
    {
     "data": {
      "text/plain": [
       "float"
      ]
     },
     "execution_count": 71,
     "metadata": {},
     "output_type": "execute_result"
    }
   ],
   "source": [
    "type(c)"
   ]
  },
  {
   "cell_type": "code",
   "execution_count": 72,
   "id": "629b130c-b733-42bb-8ab6-592eed380594",
   "metadata": {},
   "outputs": [],
   "source": [
    "d = \"Munna\""
   ]
  },
  {
   "cell_type": "code",
   "execution_count": 73,
   "id": "b31b0161-18e4-4a84-94bf-f127c3c17983",
   "metadata": {},
   "outputs": [
    {
     "data": {
      "text/plain": [
       "str"
      ]
     },
     "execution_count": 73,
     "metadata": {},
     "output_type": "execute_result"
    }
   ],
   "source": [
    "type(d)"
   ]
  },
  {
   "cell_type": "code",
   "execution_count": 74,
   "id": "70620b90-478b-45e6-b071-37e6812792f5",
   "metadata": {},
   "outputs": [],
   "source": [
    "e = 'This is a book'"
   ]
  },
  {
   "cell_type": "code",
   "execution_count": 75,
   "id": "f045a09f-3e22-4e37-9d52-8ebdd8de24c7",
   "metadata": {},
   "outputs": [
    {
     "data": {
      "text/plain": [
       "str"
      ]
     },
     "execution_count": 75,
     "metadata": {},
     "output_type": "execute_result"
    }
   ],
   "source": [
    "type(e)"
   ]
  },
  {
   "cell_type": "code",
   "execution_count": 76,
   "id": "53e19a06-6bf9-4607-96e9-6a719fd74d87",
   "metadata": {},
   "outputs": [],
   "source": [
    "f = True "
   ]
  },
  {
   "cell_type": "code",
   "execution_count": 77,
   "id": "3251604b-22a6-4bbf-a169-7a1b42701b93",
   "metadata": {},
   "outputs": [],
   "source": [
    "e = False "
   ]
  },
  {
   "cell_type": "code",
   "execution_count": 78,
   "id": "d715ea03-4f12-4cf9-b323-554badc0bca4",
   "metadata": {},
   "outputs": [
    {
     "data": {
      "text/plain": [
       "bool"
      ]
     },
     "execution_count": 78,
     "metadata": {},
     "output_type": "execute_result"
    }
   ],
   "source": [
    "type(f)"
   ]
  },
  {
   "cell_type": "code",
   "execution_count": 79,
   "id": "78615edc-593b-4389-bce2-92b6451c23ec",
   "metadata": {},
   "outputs": [
    {
     "data": {
      "text/plain": [
       "bool"
      ]
     },
     "execution_count": 79,
     "metadata": {},
     "output_type": "execute_result"
    }
   ],
   "source": [
    "type(e) # we check what's uses the feature Shift+Tab "
   ]
  },
  {
   "cell_type": "code",
   "execution_count": 80,
   "id": "7d1623ab-aae0-4de2-92c7-e9418ec49336",
   "metadata": {},
   "outputs": [
    {
     "data": {
      "text/plain": [
       "1"
      ]
     },
     "execution_count": 80,
     "metadata": {},
     "output_type": "execute_result"
    }
   ],
   "source": [
    "e+f"
   ]
  },
  {
   "cell_type": "code",
   "execution_count": 81,
   "id": "ca1c13d6-b479-49e5-8bf9-b19e0f57761d",
   "metadata": {},
   "outputs": [
    {
     "data": {
      "text/plain": [
       "1"
      ]
     },
     "execution_count": 81,
     "metadata": {},
     "output_type": "execute_result"
    }
   ],
   "source": [
    "True * True"
   ]
  },
  {
   "cell_type": "code",
   "execution_count": 82,
   "id": "bc57dec2-98f1-4c51-9d20-6ff5a89648f6",
   "metadata": {},
   "outputs": [
    {
     "ename": "ZeroDivisionError",
     "evalue": "division by zero",
     "output_type": "error",
     "traceback": [
      "\u001b[0;31m---------------------------------------------------------------------------\u001b[0m",
      "\u001b[0;31mZeroDivisionError\u001b[0m                         Traceback (most recent call last)",
      "Cell \u001b[0;32mIn[82], line 1\u001b[0m\n\u001b[0;32m----> 1\u001b[0m \u001b[38;5;28;43;01mTrue\u001b[39;49;00m\u001b[43m \u001b[49m\u001b[38;5;241;43m/\u001b[39;49m\u001b[43m \u001b[49m\u001b[38;5;28;43;01mFalse\u001b[39;49;00m\n",
      "\u001b[0;31mZeroDivisionError\u001b[0m: division by zero"
     ]
    }
   ],
   "source": [
    "True / False"
   ]
  },
  {
   "cell_type": "code",
   "execution_count": 83,
   "id": "6ddf27df-60e9-46f1-aa39-85cb5a4a0b01",
   "metadata": {},
   "outputs": [
    {
     "ename": "ZeroDivisionError",
     "evalue": "division by zero",
     "output_type": "error",
     "traceback": [
      "\u001b[0;31m---------------------------------------------------------------------------\u001b[0m",
      "\u001b[0;31mZeroDivisionError\u001b[0m                         Traceback (most recent call last)",
      "Cell \u001b[0;32mIn[83], line 1\u001b[0m\n\u001b[0;32m----> 1\u001b[0m \u001b[38;5;241;43m1\u001b[39;49m\u001b[38;5;241;43m/\u001b[39;49m\u001b[38;5;241;43m0\u001b[39;49m\n",
      "\u001b[0;31mZeroDivisionError\u001b[0m: division by zero"
     ]
    }
   ],
   "source": [
    "1/0"
   ]
  },
  {
   "cell_type": "code",
   "execution_count": 84,
   "id": "382174a5-1b74-49df-991a-313b6fd7f716",
   "metadata": {},
   "outputs": [
    {
     "data": {
      "text/plain": [
       "0"
      ]
     },
     "execution_count": 84,
     "metadata": {},
     "output_type": "execute_result"
    }
   ],
   "source": [
    "True * False "
   ]
  },
  {
   "cell_type": "code",
   "execution_count": 85,
   "id": "db6b49e5-af63-404e-a1d0-e9355188ef93",
   "metadata": {},
   "outputs": [],
   "source": [
    "Vic = 5 + 3j #only use j not i. we use both capital and small not problem in run."
   ]
  },
  {
   "cell_type": "code",
   "execution_count": 86,
   "id": "8544bd1c-bbbf-45f8-a5ff-585c206bbcb7",
   "metadata": {},
   "outputs": [
    {
     "data": {
      "text/plain": [
       "complex"
      ]
     },
     "execution_count": 86,
     "metadata": {},
     "output_type": "execute_result"
    }
   ],
   "source": [
    "type(Vic)"
   ]
  },
  {
   "cell_type": "code",
   "execution_count": 87,
   "id": "11f5a8e4-e28b-4f4e-98bc-af73d491310c",
   "metadata": {},
   "outputs": [
    {
     "data": {
      "text/plain": [
       "5.0"
      ]
     },
     "execution_count": 87,
     "metadata": {},
     "output_type": "execute_result"
    }
   ],
   "source": [
    "Vic.real"
   ]
  },
  {
   "cell_type": "code",
   "execution_count": 88,
   "id": "cb3aedf5-8a7e-420a-bb2d-9f888c1de3fe",
   "metadata": {},
   "outputs": [
    {
     "data": {
      "text/plain": [
       "3.0"
      ]
     },
     "execution_count": 88,
     "metadata": {},
     "output_type": "execute_result"
    }
   ],
   "source": [
    "Vic.imag"
   ]
  },
  {
   "cell_type": "code",
   "execution_count": 89,
   "id": "8b66bf95-aadd-47d5-ae04-6fc700bb503d",
   "metadata": {},
   "outputs": [
    {
     "data": {
      "text/plain": [
       "(5+3j)"
      ]
     },
     "execution_count": 89,
     "metadata": {},
     "output_type": "execute_result"
    }
   ],
   "source": [
    "Vic"
   ]
  },
  {
   "cell_type": "code",
   "execution_count": 90,
   "id": "fdd05ece-54fa-400a-a21d-3d6420fbaf00",
   "metadata": {},
   "outputs": [
    {
     "name": "stdout",
     "output_type": "stream",
     "text": [
      "My name is Chintu\n"
     ]
    }
   ],
   "source": [
    "print(\"My name is Chintu\")"
   ]
  },
  {
   "cell_type": "code",
   "execution_count": 91,
   "id": "36ad0f6e-6e13-47a6-93f1-1354da003009",
   "metadata": {},
   "outputs": [
    {
     "name": "stdout",
     "output_type": "stream",
     "text": [
      "(5+3j)\n"
     ]
    }
   ],
   "source": [
    "print(Vic)"
   ]
  },
  {
   "cell_type": "code",
   "execution_count": 92,
   "id": "505fe977-6a2d-42e0-9f22-4b49778e0c0f",
   "metadata": {},
   "outputs": [],
   "source": [
    "G = \"FARHAN\"  # 0=F,1=A,....5=N <--Forward Indexing\n",
    "              # -1=N,-2=A,....-6=F <--Backward Indexing"
   ]
  },
  {
   "cell_type": "code",
   "execution_count": 93,
   "id": "aed69476-0c00-4b20-9df5-f6dd75d760cb",
   "metadata": {},
   "outputs": [
    {
     "data": {
      "text/plain": [
       "str"
      ]
     },
     "execution_count": 93,
     "metadata": {},
     "output_type": "execute_result"
    }
   ],
   "source": [
    "type(G)"
   ]
  },
  {
   "cell_type": "code",
   "execution_count": 94,
   "id": "2718d5d1-ad7d-428b-9dda-47db559a13cb",
   "metadata": {},
   "outputs": [
    {
     "data": {
      "text/plain": [
       "'F'"
      ]
     },
     "execution_count": 94,
     "metadata": {},
     "output_type": "execute_result"
    }
   ],
   "source": [
    "G[0]  "
   ]
  },
  {
   "cell_type": "code",
   "execution_count": 95,
   "id": "701c63b9-fab5-419c-8fea-9ea5bccb5c1d",
   "metadata": {},
   "outputs": [
    {
     "data": {
      "text/plain": [
       "'H'"
      ]
     },
     "execution_count": 95,
     "metadata": {},
     "output_type": "execute_result"
    }
   ],
   "source": [
    "G[3]"
   ]
  },
  {
   "cell_type": "code",
   "execution_count": 96,
   "id": "94ba772c-1f8d-4b60-a83a-78810cc5e77c",
   "metadata": {},
   "outputs": [
    {
     "data": {
      "text/plain": [
       "'N'"
      ]
     },
     "execution_count": 96,
     "metadata": {},
     "output_type": "execute_result"
    }
   ],
   "source": [
    "G[5]"
   ]
  },
  {
   "cell_type": "code",
   "execution_count": 97,
   "id": "fe9ad367-c79a-4de5-be54-1d9c361911ce",
   "metadata": {},
   "outputs": [
    {
     "data": {
      "text/plain": [
       "'A'"
      ]
     },
     "execution_count": 97,
     "metadata": {},
     "output_type": "execute_result"
    }
   ],
   "source": [
    "G[-5]"
   ]
  },
  {
   "cell_type": "code",
   "execution_count": 98,
   "id": "9cbc2399-6420-4939-b93f-683a5a739171",
   "metadata": {},
   "outputs": [
    {
     "data": {
      "text/plain": [
       "'N'"
      ]
     },
     "execution_count": 98,
     "metadata": {},
     "output_type": "execute_result"
    }
   ],
   "source": [
    "G[-1]"
   ]
  },
  {
   "cell_type": "code",
   "execution_count": 99,
   "id": "adc044dc-f62b-44a4-a765-adb63fbe4788",
   "metadata": {},
   "outputs": [
    {
     "data": {
      "text/plain": [
       "'FAR'"
      ]
     },
     "execution_count": 99,
     "metadata": {},
     "output_type": "execute_result"
    }
   ],
   "source": [
    "G[0:3] #Start 0 and end print before last word (last-1)"
   ]
  },
  {
   "cell_type": "code",
   "execution_count": 100,
   "id": "d130b333-c3dc-41d9-896e-9a9cc110a7f2",
   "metadata": {},
   "outputs": [
    {
     "data": {
      "text/plain": [
       "'FARHAN'"
      ]
     },
     "execution_count": 100,
     "metadata": {},
     "output_type": "execute_result"
    }
   ],
   "source": [
    "G[0:6]"
   ]
  },
  {
   "cell_type": "code",
   "execution_count": 101,
   "id": "706094a7-ad63-4e4a-a7d9-d049f1cb39f6",
   "metadata": {},
   "outputs": [
    {
     "data": {
      "text/plain": [
       "'FARHAN'"
      ]
     },
     "execution_count": 101,
     "metadata": {},
     "output_type": "execute_result"
    }
   ],
   "source": [
    "G[0:6:1] # By default 1 ka gap hota hai"
   ]
  },
  {
   "cell_type": "code",
   "execution_count": 102,
   "id": "b868e1fc-23e1-4ce3-83e6-b4e003cd60bb",
   "metadata": {},
   "outputs": [
    {
     "data": {
      "text/plain": [
       "'FRA'"
      ]
     },
     "execution_count": 102,
     "metadata": {},
     "output_type": "execute_result"
    }
   ],
   "source": [
    "G[0:6:2] # 2 means gap one in word"
   ]
  },
  {
   "cell_type": "code",
   "execution_count": 103,
   "id": "0a716f34-d0c3-4693-8d7a-fa72c3ad7bd0",
   "metadata": {},
   "outputs": [
    {
     "data": {
      "text/plain": [
       "'FH'"
      ]
     },
     "execution_count": 103,
     "metadata": {},
     "output_type": "execute_result"
    }
   ],
   "source": [
    "G[0:6:3] # 3 mean gap two word"
   ]
  },
  {
   "cell_type": "code",
   "execution_count": 104,
   "id": "23b43d94-4a26-4107-bc55-55ea7bd0962b",
   "metadata": {},
   "outputs": [
    {
     "data": {
      "text/plain": [
       "'FRA'"
      ]
     },
     "execution_count": 104,
     "metadata": {},
     "output_type": "execute_result"
    }
   ],
   "source": [
    "G[::2] # automatically select kr lega one or last value"
   ]
  },
  {
   "cell_type": "code",
   "execution_count": 105,
   "id": "51c83583-2805-4c0d-9113-09289bd65dc5",
   "metadata": {},
   "outputs": [
    {
     "data": {
      "text/plain": [
       "'FRA'"
      ]
     },
     "execution_count": 105,
     "metadata": {},
     "output_type": "execute_result"
    }
   ],
   "source": [
    "G[0::2]"
   ]
  },
  {
   "cell_type": "code",
   "execution_count": 106,
   "id": "abab6493-54bb-4477-9fc6-0eb5384f45cd",
   "metadata": {},
   "outputs": [
    {
     "data": {
      "text/plain": [
       "'FRA'"
      ]
     },
     "execution_count": 106,
     "metadata": {},
     "output_type": "execute_result"
    }
   ],
   "source": [
    "G[:6:2]"
   ]
  },
  {
   "cell_type": "code",
   "execution_count": 107,
   "id": "ad839245-5282-43c0-a620-ee002a8a287f",
   "metadata": {},
   "outputs": [
    {
     "ename": "ValueError",
     "evalue": "slice step cannot be zero",
     "output_type": "error",
     "traceback": [
      "\u001b[0;31m---------------------------------------------------------------------------\u001b[0m",
      "\u001b[0;31mValueError\u001b[0m                                Traceback (most recent call last)",
      "Cell \u001b[0;32mIn[107], line 1\u001b[0m\n\u001b[0;32m----> 1\u001b[0m \u001b[43mG\u001b[49m\u001b[43m[\u001b[49m\u001b[38;5;241;43m0\u001b[39;49m\u001b[43m:\u001b[49m\u001b[38;5;241;43m6\u001b[39;49m\u001b[43m:\u001b[49m\u001b[38;5;241;43m0\u001b[39;49m\u001b[43m]\u001b[49m \u001b[38;5;66;03m# Give error because minimum gap 1 required\u001b[39;00m\n",
      "\u001b[0;31mValueError\u001b[0m: slice step cannot be zero"
     ]
    }
   ],
   "source": [
    "G[0:6:0] # Give error because minimum gap 1 required"
   ]
  },
  {
   "cell_type": "code",
   "execution_count": 108,
   "id": "08e2aa87-16e1-4148-89b9-17015f451035",
   "metadata": {},
   "outputs": [
    {
     "data": {
      "text/plain": [
       "'NAHRAF'"
      ]
     },
     "execution_count": 108,
     "metadata": {},
     "output_type": "execute_result"
    }
   ],
   "source": [
    "G[::-1] # Opposite value print "
   ]
  },
  {
   "cell_type": "code",
   "execution_count": 109,
   "id": "856485fe-7142-4d8c-a04e-bf8a46f3b6a9",
   "metadata": {},
   "outputs": [
    {
     "data": {
      "text/plain": [
       "''"
      ]
     },
     "execution_count": 109,
     "metadata": {},
     "output_type": "execute_result"
    }
   ],
   "source": [
    "G[1:6:-1] # Because both are opposite direction."
   ]
  },
  {
   "cell_type": "code",
   "execution_count": 110,
   "id": "1fc01f2b-d4a5-4abe-9a1e-919b860f758f",
   "metadata": {},
   "outputs": [
    {
     "data": {
      "text/plain": [
       "''"
      ]
     },
     "execution_count": 110,
     "metadata": {},
     "output_type": "execute_result"
    }
   ],
   "source": [
    "G[8:0] # Beacuse both are opposite direction"
   ]
  },
  {
   "cell_type": "code",
   "execution_count": 111,
   "id": "9389824e-80d5-4f44-bd6c-2012313128fe",
   "metadata": {},
   "outputs": [
    {
     "data": {
      "text/plain": [
       "'NAHRA'"
      ]
     },
     "execution_count": 111,
     "metadata": {},
     "output_type": "execute_result"
    }
   ],
   "source": [
    "G[8:0:-1] # Because both are same direction, Now 8 is Lower and 0 is upper value"
   ]
  },
  {
   "cell_type": "code",
   "execution_count": 112,
   "id": "8b05fdaf-dc73-4215-b5ce-bcffb1102e9d",
   "metadata": {},
   "outputs": [
    {
     "data": {
      "text/plain": [
       "'NAHRAF'"
      ]
     },
     "execution_count": 112,
     "metadata": {},
     "output_type": "execute_result"
    }
   ],
   "source": [
    "G[8::-1]"
   ]
  },
  {
   "cell_type": "code",
   "execution_count": 113,
   "id": "ab918318-43a3-46de-a265-ee755fc670ed",
   "metadata": {},
   "outputs": [
    {
     "data": {
      "text/plain": [
       "''"
      ]
     },
     "execution_count": 113,
     "metadata": {},
     "output_type": "execute_result"
    }
   ],
   "source": [
    "G[-2:-6:1] # direct direction"
   ]
  },
  {
   "cell_type": "code",
   "execution_count": 114,
   "id": "35284d26-bf65-496a-86ae-27a5a003e97a",
   "metadata": {},
   "outputs": [
    {
     "data": {
      "text/plain": [
       "'AHRA'"
      ]
     },
     "execution_count": 114,
     "metadata": {},
     "output_type": "execute_result"
    }
   ],
   "source": [
    "G[-2:-6:-1] # Didn't print last word"
   ]
  },
  {
   "cell_type": "code",
   "execution_count": 115,
   "id": "dc71804d-7a7c-4e80-bae2-2062bda64189",
   "metadata": {},
   "outputs": [
    {
     "data": {
      "text/plain": [
       "'AHRAF'"
      ]
     },
     "execution_count": 115,
     "metadata": {},
     "output_type": "execute_result"
    }
   ],
   "source": [
    "G[-2::-1] # Print last word also"
   ]
  },
  {
   "cell_type": "code",
   "execution_count": 116,
   "id": "6920418e-aa54-4c62-8657-c32fa675c661",
   "metadata": {},
   "outputs": [
    {
     "data": {
      "text/plain": [
       "'NAHRAF'"
      ]
     },
     "execution_count": 116,
     "metadata": {},
     "output_type": "execute_result"
    }
   ],
   "source": [
    "G[::-1] # automatically select, -1 print value opposite"
   ]
  },
  {
   "cell_type": "code",
   "execution_count": 117,
   "id": "0a3b7b0d-81c4-4190-b82d-e0a353e1c3db",
   "metadata": {},
   "outputs": [
    {
     "data": {
      "text/plain": [
       "'FARHAN'"
      ]
     },
     "execution_count": 117,
     "metadata": {},
     "output_type": "execute_result"
    }
   ],
   "source": [
    "G[::]"
   ]
  },
  {
   "cell_type": "code",
   "execution_count": 118,
   "id": "d9f03cc9-9490-47d5-afe0-bdd0c5e19c2e",
   "metadata": {},
   "outputs": [
    {
     "data": {
      "text/plain": [
       "''"
      ]
     },
     "execution_count": 118,
     "metadata": {},
     "output_type": "execute_result"
    }
   ],
   "source": [
    "G[:-50:] # slicing in python"
   ]
  },
  {
   "cell_type": "code",
   "execution_count": 119,
   "id": "69801f64-437a-4303-9976-4d204fd4446b",
   "metadata": {},
   "outputs": [
    {
     "ename": "IndexError",
     "evalue": "string index out of range",
     "output_type": "error",
     "traceback": [
      "\u001b[0;31m---------------------------------------------------------------------------\u001b[0m",
      "\u001b[0;31mIndexError\u001b[0m                                Traceback (most recent call last)",
      "Cell \u001b[0;32mIn[119], line 1\u001b[0m\n\u001b[0;32m----> 1\u001b[0m \u001b[43mG\u001b[49m\u001b[43m[\u001b[49m\u001b[38;5;241;43m50\u001b[39;49m\u001b[43m]\u001b[49m \u001b[38;5;66;03m# Indexing in python\u001b[39;00m\n",
      "\u001b[0;31mIndexError\u001b[0m: string index out of range"
     ]
    }
   ],
   "source": [
    "G[50] # Indexing in python"
   ]
  },
  {
   "cell_type": "code",
   "execution_count": 120,
   "id": "856e0cac-c86a-45fe-8915-40805479202e",
   "metadata": {},
   "outputs": [
    {
     "data": {
      "text/plain": [
       "'NAHRAF'"
      ]
     },
     "execution_count": 120,
     "metadata": {},
     "output_type": "execute_result"
    }
   ],
   "source": [
    "G[:-5000:-1] # Didn't give error"
   ]
  },
  {
   "cell_type": "code",
   "execution_count": 30,
   "id": "6c61dc37-7dff-417b-acb7-bb4227dcbafa",
   "metadata": {},
   "outputs": [],
   "source": [
    "s1 = \"This is my string class\""
   ]
  },
  {
   "cell_type": "code",
   "execution_count": 31,
   "id": "59a386fe-c68f-4654-9c65-98015144218c",
   "metadata": {},
   "outputs": [
    {
     "data": {
      "text/plain": [
       "23"
      ]
     },
     "execution_count": 31,
     "metadata": {},
     "output_type": "execute_result"
    }
   ],
   "source": [
    "len(s1) # Lenght"
   ]
  },
  {
   "cell_type": "code",
   "execution_count": 36,
   "id": "0dcddc96-18a3-4560-8c44-1d15a2335de2",
   "metadata": {},
   "outputs": [
    {
     "data": {
      "text/plain": [
       "3"
      ]
     },
     "execution_count": 36,
     "metadata": {},
     "output_type": "execute_result"
    }
   ],
   "source": [
    "s1.find('s') # first s position number "
   ]
  },
  {
   "cell_type": "code",
   "execution_count": 33,
   "id": "c93783e7-e6bc-4ecc-9d84-9e245c4c5724",
   "metadata": {},
   "outputs": [
    {
     "data": {
      "text/plain": [
       "2"
      ]
     },
     "execution_count": 33,
     "metadata": {},
     "output_type": "execute_result"
    }
   ],
   "source": [
    "s1.find('i') # first i position number "
   ]
  },
  {
   "cell_type": "code",
   "execution_count": 34,
   "id": "b12b8ed0-041b-4aed-9c5e-d2133bfa4237",
   "metadata": {},
   "outputs": [
    {
     "data": {
      "text/plain": [
       "8"
      ]
     },
     "execution_count": 34,
     "metadata": {},
     "output_type": "execute_result"
    }
   ],
   "source": [
    "s1.find('my') # m position number is 8"
   ]
  },
  {
   "cell_type": "code",
   "execution_count": 126,
   "id": "bec959e3-61a7-43e3-90a7-81158fd74828",
   "metadata": {},
   "outputs": [
    {
     "data": {
      "text/plain": [
       "-1"
      ]
     },
     "execution_count": 126,
     "metadata": {},
     "output_type": "execute_result"
    }
   ],
   "source": [
    "s1.find('The') #if value not match python give -1 ans because Python is Case Sensitive"
   ]
  },
  {
   "cell_type": "code",
   "execution_count": 127,
   "id": "93a0cc6d-425c-400b-a36c-530c117c436e",
   "metadata": {},
   "outputs": [
    {
     "data": {
      "text/plain": [
       "3"
      ]
     },
     "execution_count": 127,
     "metadata": {},
     "output_type": "execute_result"
    }
   ],
   "source": [
    "s1.count('i') "
   ]
  },
  {
   "cell_type": "code",
   "execution_count": 128,
   "id": "f0c5ef44-cdf1-4304-a4dd-83582c59580b",
   "metadata": {},
   "outputs": [
    {
     "data": {
      "text/plain": [
       "0"
      ]
     },
     "execution_count": 128,
     "metadata": {},
     "output_type": "execute_result"
    }
   ],
   "source": [
    "s1.count('F')"
   ]
  },
  {
   "cell_type": "code",
   "execution_count": 129,
   "id": "27a65d5b-4a3f-472f-be8f-78056fb318cb",
   "metadata": {},
   "outputs": [
    {
     "data": {
      "text/plain": [
       "'THIS IS MY STRING CLASS'"
      ]
     },
     "execution_count": 129,
     "metadata": {},
     "output_type": "execute_result"
    }
   ],
   "source": [
    "s1.upper()"
   ]
  },
  {
   "cell_type": "code",
   "execution_count": 130,
   "id": "a0292230-4584-4346-a8f9-2bb0b8b9c85f",
   "metadata": {},
   "outputs": [],
   "source": [
    "s2 = \"AMBEDKAR\""
   ]
  },
  {
   "cell_type": "code",
   "execution_count": 131,
   "id": "af8d0b94-011f-4b43-851b-7b4fe0851d3a",
   "metadata": {},
   "outputs": [
    {
     "data": {
      "text/plain": [
       "'ambedkar'"
      ]
     },
     "execution_count": 131,
     "metadata": {},
     "output_type": "execute_result"
    }
   ],
   "source": [
    "s2.lower()"
   ]
  },
  {
   "cell_type": "code",
   "execution_count": 132,
   "id": "b6eb255b-3b06-47b2-b381-0378156d6b4a",
   "metadata": {},
   "outputs": [
    {
     "data": {
      "text/plain": [
       "'This Is My String Class'"
      ]
     },
     "execution_count": 132,
     "metadata": {},
     "output_type": "execute_result"
    }
   ],
   "source": [
    "s1.title() # Upper case on first letter of word"
   ]
  },
  {
   "cell_type": "code",
   "execution_count": 133,
   "id": "06f7c986-08bf-4f92-b73f-f61ed67cc97d",
   "metadata": {},
   "outputs": [
    {
     "data": {
      "text/plain": [
       "'This is my string class'"
      ]
     },
     "execution_count": 133,
     "metadata": {},
     "output_type": "execute_result"
    }
   ],
   "source": [
    "s1.capitalize() # ONly first word capital only"
   ]
  },
  {
   "cell_type": "code",
   "execution_count": 134,
   "id": "6c0fd890-1f97-4bbd-82b9-4423791eaad2",
   "metadata": {},
   "outputs": [
    {
     "data": {
      "text/plain": [
       "'FARHAN'"
      ]
     },
     "execution_count": 134,
     "metadata": {},
     "output_type": "execute_result"
    }
   ],
   "source": [
    "G"
   ]
  },
  {
   "cell_type": "code",
   "execution_count": 135,
   "id": "6b97d458-3886-4a9b-adec-2237cbb19b1c",
   "metadata": {},
   "outputs": [
    {
     "ename": "TypeError",
     "evalue": "can only concatenate str (not \"int\") to str",
     "output_type": "error",
     "traceback": [
      "\u001b[0;31m---------------------------------------------------------------------------\u001b[0m",
      "\u001b[0;31mTypeError\u001b[0m                                 Traceback (most recent call last)",
      "Cell \u001b[0;32mIn[135], line 1\u001b[0m\n\u001b[0;32m----> 1\u001b[0m \u001b[43mG\u001b[49m\u001b[43m \u001b[49m\u001b[38;5;241;43m+\u001b[39;49m\u001b[43m \u001b[49m\u001b[38;5;241;43m1\u001b[39;49m\n",
      "\u001b[0;31mTypeError\u001b[0m: can only concatenate str (not \"int\") to str"
     ]
    }
   ],
   "source": [
    "G + 1"
   ]
  },
  {
   "cell_type": "code",
   "execution_count": 136,
   "id": "bc069dda-46d7-4559-9427-b265db545d7c",
   "metadata": {},
   "outputs": [
    {
     "data": {
      "text/plain": [
       "'FARHAN Qureshi'"
      ]
     },
     "execution_count": 136,
     "metadata": {},
     "output_type": "execute_result"
    }
   ],
   "source": [
    "G + \" Qureshi\""
   ]
  },
  {
   "cell_type": "code",
   "execution_count": 145,
   "id": "308ff687-fb3b-4d0e-9c09-4c8354a82421",
   "metadata": {},
   "outputs": [
    {
     "data": {
      "text/plain": [
       "'FARHAN 1'"
      ]
     },
     "execution_count": 145,
     "metadata": {},
     "output_type": "execute_result"
    }
   ],
   "source": [
    "G+ \" 1\""
   ]
  },
  {
   "cell_type": "code",
   "execution_count": 138,
   "id": "8429ea36-4c29-4f90-a9cd-a8f3aa469d44",
   "metadata": {},
   "outputs": [
    {
     "data": {
      "text/plain": [
       "'FARHAN1'"
      ]
     },
     "execution_count": 138,
     "metadata": {},
     "output_type": "execute_result"
    }
   ],
   "source": [
    "G+ str(1) # 1 ko convert kr diya string m"
   ]
  },
  {
   "cell_type": "code",
   "execution_count": 139,
   "id": "20e2b50d-70fb-49b3-9dfe-9f661d97d443",
   "metadata": {},
   "outputs": [
    {
     "data": {
      "text/plain": [
       "'FARHANFARHANFARHAN'"
      ]
     },
     "execution_count": 139,
     "metadata": {},
     "output_type": "execute_result"
    }
   ],
   "source": [
    "G * 3 "
   ]
  },
  {
   "cell_type": "code",
   "execution_count": 140,
   "id": "4da8729f-b7e7-4f4b-b4c0-14ac2dcdad75",
   "metadata": {},
   "outputs": [
    {
     "ename": "TypeError",
     "evalue": "unsupported operand type(s) for /: 'str' and 'int'",
     "output_type": "error",
     "traceback": [
      "\u001b[0;31m---------------------------------------------------------------------------\u001b[0m",
      "\u001b[0;31mTypeError\u001b[0m                                 Traceback (most recent call last)",
      "Cell \u001b[0;32mIn[140], line 1\u001b[0m\n\u001b[0;32m----> 1\u001b[0m \u001b[43mG\u001b[49m\u001b[43m \u001b[49m\u001b[38;5;241;43m/\u001b[39;49m\u001b[43m \u001b[49m\u001b[38;5;241;43m3\u001b[39;49m\n",
      "\u001b[0;31mTypeError\u001b[0m: unsupported operand type(s) for /: 'str' and 'int'"
     ]
    }
   ],
   "source": [
    "G / 3"
   ]
  },
  {
   "cell_type": "code",
   "execution_count": 141,
   "id": "35209ac3-1b6c-49ec-b3e9-1feb3eae2bce",
   "metadata": {},
   "outputs": [
    {
     "ename": "SyntaxError",
     "evalue": "unterminated string literal (detected at line 1) (1695515576.py, line 1)",
     "output_type": "error",
     "traceback": [
      "\u001b[0;36m  Cell \u001b[0;32mIn[141], line 1\u001b[0;36m\u001b[0m\n\u001b[0;31m    'Don't do copy and paste in my class'\u001b[0m\n\u001b[0m                                        ^\u001b[0m\n\u001b[0;31mSyntaxError\u001b[0m\u001b[0;31m:\u001b[0m unterminated string literal (detected at line 1)\n"
     ]
    }
   ],
   "source": [
    "'Don't do copy and paste in my class'"
   ]
  },
  {
   "cell_type": "code",
   "execution_count": 142,
   "id": "b5122b5f-7702-41fa-990f-463972c4644a",
   "metadata": {},
   "outputs": [
    {
     "data": {
      "text/plain": [
       "\"Don't do copy and paste in my class\""
      ]
     },
     "execution_count": 142,
     "metadata": {},
     "output_type": "execute_result"
    }
   ],
   "source": [
    "\"Don't do copy and paste in my class\""
   ]
  },
  {
   "cell_type": "code",
   "execution_count": 143,
   "id": "473ceb82-8f91-41a0-ad91-c7d407183877",
   "metadata": {},
   "outputs": [
    {
     "data": {
      "text/plain": [
       "'Don\"t do copy and paste in my class'"
      ]
     },
     "execution_count": 143,
     "metadata": {},
     "output_type": "execute_result"
    }
   ],
   "source": [
    "'Don\"t do copy and paste in my class'"
   ]
  },
  {
   "cell_type": "code",
   "execution_count": 39,
   "id": "530438c0-a29c-403c-b203-1c0b1330108b",
   "metadata": {},
   "outputs": [
    {
     "data": {
      "text/plain": [
       "' WE use both single or both coma both words same'"
      ]
     },
     "execution_count": 39,
     "metadata": {},
     "output_type": "execute_result"
    }
   ],
   "source": [
    "## we use single or both hash no difference\n",
    "\"\"\"My name is Vicky\n",
    "My name is Farhan \"\"\"\n",
    "''' WE use both single or both coma both words same'''"
   ]
  },
  {
   "cell_type": "code",
   "execution_count": null,
   "id": "053f3941-3d6a-41ba-b177-efcb7296db2b",
   "metadata": {},
   "outputs": [],
   "source": []
  },
  {
   "cell_type": "code",
   "execution_count": null,
   "id": "5810d4cf-8c0e-415e-93c3-054357932f0c",
   "metadata": {},
   "outputs": [],
   "source": []
  },
  {
   "cell_type": "code",
   "execution_count": null,
   "id": "13d89830-752e-4163-b476-0c8ffb1d7c9c",
   "metadata": {},
   "outputs": [],
   "source": []
  },
  {
   "cell_type": "code",
   "execution_count": null,
   "id": "db0e8294-0195-464b-a3dd-0b2b935b31f6",
   "metadata": {},
   "outputs": [],
   "source": []
  }
 ],
 "metadata": {
  "kernelspec": {
   "display_name": "Python 3 (ipykernel)",
   "language": "python",
   "name": "python3"
  },
  "language_info": {
   "codemirror_mode": {
    "name": "ipython",
    "version": 3
   },
   "file_extension": ".py",
   "mimetype": "text/x-python",
   "name": "python",
   "nbconvert_exporter": "python",
   "pygments_lexer": "ipython3",
   "version": "3.10.8"
  }
 },
 "nbformat": 4,
 "nbformat_minor": 5
}
